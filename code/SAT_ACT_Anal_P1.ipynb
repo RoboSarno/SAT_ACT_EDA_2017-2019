{
 "cells": [
  {
   "cell_type": "markdown",
   "metadata": {},
   "source": [
    "# Standardized Test Analysis"
   ]
  },
  {
   "cell_type": "markdown",
   "metadata": {},
   "source": [
    "## Problem Statement"
   ]
  },
  {
   "cell_type": "markdown",
   "metadata": {},
   "source": [
    "- Since College Board has changed the format of the SAT/ACT. The participation and average scores by state have changed from 2016 - 2019.  My analysis aims to explore this change year by year and what state is being effected the most by this change."
   ]
  },
  {
   "cell_type": "markdown",
   "metadata": {},
   "source": [
    "\n",
    "<!-- ACT -->\n",
    "1) act_2017.csv - contains act data regarding the year 2017\n",
    "2) act_2018.csv - contains act data regarding the year 2018\n",
    "3) act_2019.csv - contains act data regarding the year 2019\n",
    "<!--  SAT -->\n",
    "4) sat_2017.csv - contains sat data regarding the year 2017\n",
    "5) sat_2018.csv - contains sat data regarding the year 2018\n",
    "6) sat_2019.csv - contains sat data regarding the year 2019"
   ]
  },
  {
   "cell_type": "markdown",
   "metadata": {},
   "source": [
    "## Outside Research"
   ]
  },
  {
   "cell_type": "markdown",
   "metadata": {},
   "source": [
    "1) https://www.bestcolleges.com/blog/act-vs-sat/\n",
    "2) https://www.princetonreview.com/college/sat-act#:~:text=Both%20ACT%20and%20SAT%20scores,one%20test%20over%20the%20other."
   ]
  },
  {
   "cell_type": "markdown",
   "metadata": {
    "tags": []
   },
   "source": [
    "## Challenge\n",
    "\n",
    "1. Calculate mean:"
   ]
  },
  {
   "cell_type": "code",
   "execution_count": 1,
   "metadata": {},
   "outputs": [
    {
     "data": {
      "text/plain": [
       "53.365"
      ]
     },
     "execution_count": 1,
     "metadata": {},
     "output_type": "execute_result"
    }
   ],
   "source": [
    "# Code:\n",
    "import random\n",
    "test = [random.randint(1,100) for i in range(0,200)]\n",
    "def cal_mean(temp):\n",
    "    summ = []\n",
    "    for i in temp:\n",
    "        summ.append(i)\n",
    "    return sum(summ)/len(temp)\n",
    "\n",
    "# Testing\n",
    "cal_mean(test)\n"
   ]
  },
  {
   "cell_type": "markdown",
   "metadata": {},
   "source": [
    "2. Calculate standard deviation:"
   ]
  },
  {
   "cell_type": "code",
   "execution_count": 2,
   "metadata": {},
   "outputs": [
    {
     "data": {
      "text/plain": [
       "29.922431385166536"
      ]
     },
     "execution_count": 2,
     "metadata": {},
     "output_type": "execute_result"
    }
   ],
   "source": [
    "# Code:\n",
    "test = [random.randint(1,100) for i in range(0,200)]\n",
    "def cal_std(temp):\n",
    "    mean = cal_mean(temp)\n",
    "    summ = []\n",
    "    for i in temp:\n",
    "        summ.append((i - mean)**2)\n",
    "    return (sum(summ)/len(temp))**0.5\n",
    "\n",
    "# Testing\n",
    "cal_std(test)"
   ]
  },
  {
   "cell_type": "markdown",
   "metadata": {},
   "source": [
    "3. Data cleaning function:\n",
    "    \n",
    "    Fixing string formating that is a number and a percent symbol and converts to a float that is the decimal approximation of the percent. \n"
   ]
  },
  {
   "cell_type": "code",
   "execution_count": 3,
   "metadata": {},
   "outputs": [
    {
     "data": {
      "text/plain": [
       "50.5"
      ]
     },
     "execution_count": 3,
     "metadata": {},
     "output_type": "execute_result"
    }
   ],
   "source": [
    "# Code:\n",
    "def string_float(temp):\n",
    "    if '%' in temp:\n",
    "        temp = temp[:-1]\n",
    "\n",
    "        return float(temp)\n",
    "    else:\n",
    "        return float(temp)\n",
    "\n",
    "# Testing\n",
    "string_float('50.5%')"
   ]
  },
  {
   "cell_type": "markdown",
   "metadata": {
    "tags": []
   },
   "source": [
    "## Import libraries and Data"
   ]
  },
  {
   "cell_type": "code",
   "execution_count": 4,
   "metadata": {},
   "outputs": [],
   "source": [
    "# %pip install -U kaleido"
   ]
  },
  {
   "cell_type": "code",
   "execution_count": 5,
   "metadata": {},
   "outputs": [],
   "source": [
    "# Imports:\n",
    "import pandas as pd\n",
    "import numpy as np\n",
    "import random\n",
    "import re\n",
    "import seaborn as sns\n",
    "import matplotlib.pyplot as plt\n",
    "from plotly.subplots import make_subplots\n",
    "import plotly.graph_objects as go\n",
    "\n",
    "%matplotlib inline\n",
    "sns.set(style=\"darkgrid\")"
   ]
  },
  {
   "cell_type": "code",
   "execution_count": 6,
   "metadata": {},
   "outputs": [],
   "source": [
    "# read CSV's\n",
    "# ACT\n",
    "df_ACT_2017 = pd.read_csv('../data/act_2017.csv')\n",
    "df_ACT_2018 = pd.read_csv('../data/act_2018.csv')\n",
    "df_ACT_2019 = pd.read_csv('../data/act_2019.csv')\n",
    "\n",
    "\n",
    "# SAT\n",
    "df_SAT_2017 = pd.read_csv('../data/sat_2017.csv')\n",
    "df_SAT_2018 = pd.read_csv('../data/sat_2018.csv')\n",
    "df_SAT_2019 = pd.read_csv('../data/sat_2019.csv')\n",
    "\n",
    "\n",
    "# df_SAT_2019_icm = pd.read_csv('../data/sat_2019_by_intended_college_major.csv')\n"
   ]
  },
  {
   "cell_type": "markdown",
   "metadata": {
    "tags": []
   },
   "source": [
    "## First 5 rows"
   ]
  },
  {
   "cell_type": "markdown",
   "metadata": {
    "tags": []
   },
   "source": [
    "### ACT"
   ]
  },
  {
   "cell_type": "markdown",
   "metadata": {
    "tags": []
   },
   "source": [
    "#### 2017"
   ]
  },
  {
   "cell_type": "code",
   "execution_count": 7,
   "metadata": {},
   "outputs": [
    {
     "data": {
      "text/html": [
       "<div>\n",
       "<style scoped>\n",
       "    .dataframe tbody tr th:only-of-type {\n",
       "        vertical-align: middle;\n",
       "    }\n",
       "\n",
       "    .dataframe tbody tr th {\n",
       "        vertical-align: top;\n",
       "    }\n",
       "\n",
       "    .dataframe thead th {\n",
       "        text-align: right;\n",
       "    }\n",
       "</style>\n",
       "<table border=\"1\" class=\"dataframe\">\n",
       "  <thead>\n",
       "    <tr style=\"text-align: right;\">\n",
       "      <th></th>\n",
       "      <th>State</th>\n",
       "      <th>Participation</th>\n",
       "      <th>English</th>\n",
       "      <th>Math</th>\n",
       "      <th>Reading</th>\n",
       "      <th>Science</th>\n",
       "      <th>Composite</th>\n",
       "    </tr>\n",
       "  </thead>\n",
       "  <tbody>\n",
       "    <tr>\n",
       "      <th>0</th>\n",
       "      <td>National</td>\n",
       "      <td>60%</td>\n",
       "      <td>20.3</td>\n",
       "      <td>20.7</td>\n",
       "      <td>21.4</td>\n",
       "      <td>21.0</td>\n",
       "      <td>21.0</td>\n",
       "    </tr>\n",
       "    <tr>\n",
       "      <th>1</th>\n",
       "      <td>Alabama</td>\n",
       "      <td>100%</td>\n",
       "      <td>18.9</td>\n",
       "      <td>18.4</td>\n",
       "      <td>19.7</td>\n",
       "      <td>19.4</td>\n",
       "      <td>19.2</td>\n",
       "    </tr>\n",
       "    <tr>\n",
       "      <th>2</th>\n",
       "      <td>Alaska</td>\n",
       "      <td>65%</td>\n",
       "      <td>18.7</td>\n",
       "      <td>19.8</td>\n",
       "      <td>20.4</td>\n",
       "      <td>19.9</td>\n",
       "      <td>19.8</td>\n",
       "    </tr>\n",
       "    <tr>\n",
       "      <th>3</th>\n",
       "      <td>Arizona</td>\n",
       "      <td>62%</td>\n",
       "      <td>18.6</td>\n",
       "      <td>19.8</td>\n",
       "      <td>20.1</td>\n",
       "      <td>19.8</td>\n",
       "      <td>19.7</td>\n",
       "    </tr>\n",
       "    <tr>\n",
       "      <th>4</th>\n",
       "      <td>Arkansas</td>\n",
       "      <td>100%</td>\n",
       "      <td>18.9</td>\n",
       "      <td>19.0</td>\n",
       "      <td>19.7</td>\n",
       "      <td>19.5</td>\n",
       "      <td>19.4</td>\n",
       "    </tr>\n",
       "  </tbody>\n",
       "</table>\n",
       "</div>"
      ],
      "text/plain": [
       "      State Participation  English  Math  Reading  Science Composite\n",
       "0  National           60%     20.3  20.7     21.4     21.0      21.0\n",
       "1   Alabama          100%     18.9  18.4     19.7     19.4      19.2\n",
       "2    Alaska           65%     18.7  19.8     20.4     19.9      19.8\n",
       "3   Arizona           62%     18.6  19.8     20.1     19.8      19.7\n",
       "4  Arkansas          100%     18.9  19.0     19.7     19.5      19.4"
      ]
     },
     "execution_count": 7,
     "metadata": {},
     "output_type": "execute_result"
    }
   ],
   "source": [
    "df_ACT_2017.head(5)"
   ]
  },
  {
   "cell_type": "markdown",
   "metadata": {
    "tags": []
   },
   "source": [
    "#### 2018"
   ]
  },
  {
   "cell_type": "code",
   "execution_count": 8,
   "metadata": {},
   "outputs": [
    {
     "data": {
      "text/html": [
       "<div>\n",
       "<style scoped>\n",
       "    .dataframe tbody tr th:only-of-type {\n",
       "        vertical-align: middle;\n",
       "    }\n",
       "\n",
       "    .dataframe tbody tr th {\n",
       "        vertical-align: top;\n",
       "    }\n",
       "\n",
       "    .dataframe thead th {\n",
       "        text-align: right;\n",
       "    }\n",
       "</style>\n",
       "<table border=\"1\" class=\"dataframe\">\n",
       "  <thead>\n",
       "    <tr style=\"text-align: right;\">\n",
       "      <th></th>\n",
       "      <th>State</th>\n",
       "      <th>Participation</th>\n",
       "      <th>Composite</th>\n",
       "    </tr>\n",
       "  </thead>\n",
       "  <tbody>\n",
       "    <tr>\n",
       "      <th>0</th>\n",
       "      <td>Alabama</td>\n",
       "      <td>100%</td>\n",
       "      <td>19.1</td>\n",
       "    </tr>\n",
       "    <tr>\n",
       "      <th>1</th>\n",
       "      <td>Alaska</td>\n",
       "      <td>33%</td>\n",
       "      <td>20.8</td>\n",
       "    </tr>\n",
       "    <tr>\n",
       "      <th>2</th>\n",
       "      <td>Arizona</td>\n",
       "      <td>66%</td>\n",
       "      <td>19.2</td>\n",
       "    </tr>\n",
       "    <tr>\n",
       "      <th>3</th>\n",
       "      <td>Arkansas</td>\n",
       "      <td>100%</td>\n",
       "      <td>19.4</td>\n",
       "    </tr>\n",
       "    <tr>\n",
       "      <th>4</th>\n",
       "      <td>California</td>\n",
       "      <td>27%</td>\n",
       "      <td>22.7</td>\n",
       "    </tr>\n",
       "  </tbody>\n",
       "</table>\n",
       "</div>"
      ],
      "text/plain": [
       "        State Participation  Composite\n",
       "0     Alabama          100%       19.1\n",
       "1      Alaska           33%       20.8\n",
       "2     Arizona           66%       19.2\n",
       "3    Arkansas          100%       19.4\n",
       "4  California           27%       22.7"
      ]
     },
     "execution_count": 8,
     "metadata": {},
     "output_type": "execute_result"
    }
   ],
   "source": [
    "df_ACT_2018.head(5)"
   ]
  },
  {
   "cell_type": "markdown",
   "metadata": {
    "tags": []
   },
   "source": [
    "#### 2019"
   ]
  },
  {
   "cell_type": "code",
   "execution_count": 9,
   "metadata": {},
   "outputs": [
    {
     "data": {
      "text/html": [
       "<div>\n",
       "<style scoped>\n",
       "    .dataframe tbody tr th:only-of-type {\n",
       "        vertical-align: middle;\n",
       "    }\n",
       "\n",
       "    .dataframe tbody tr th {\n",
       "        vertical-align: top;\n",
       "    }\n",
       "\n",
       "    .dataframe thead th {\n",
       "        text-align: right;\n",
       "    }\n",
       "</style>\n",
       "<table border=\"1\" class=\"dataframe\">\n",
       "  <thead>\n",
       "    <tr style=\"text-align: right;\">\n",
       "      <th></th>\n",
       "      <th>State</th>\n",
       "      <th>Participation</th>\n",
       "      <th>Composite</th>\n",
       "    </tr>\n",
       "  </thead>\n",
       "  <tbody>\n",
       "    <tr>\n",
       "      <th>0</th>\n",
       "      <td>Alabama</td>\n",
       "      <td>100%</td>\n",
       "      <td>18.9</td>\n",
       "    </tr>\n",
       "    <tr>\n",
       "      <th>1</th>\n",
       "      <td>Alaska</td>\n",
       "      <td>38%</td>\n",
       "      <td>20.1</td>\n",
       "    </tr>\n",
       "    <tr>\n",
       "      <th>2</th>\n",
       "      <td>Arizona</td>\n",
       "      <td>73%</td>\n",
       "      <td>19.0</td>\n",
       "    </tr>\n",
       "    <tr>\n",
       "      <th>3</th>\n",
       "      <td>Arkansas</td>\n",
       "      <td>100%</td>\n",
       "      <td>19.3</td>\n",
       "    </tr>\n",
       "    <tr>\n",
       "      <th>4</th>\n",
       "      <td>California</td>\n",
       "      <td>23%</td>\n",
       "      <td>22.6</td>\n",
       "    </tr>\n",
       "  </tbody>\n",
       "</table>\n",
       "</div>"
      ],
      "text/plain": [
       "        State Participation  Composite\n",
       "0     Alabama          100%       18.9\n",
       "1      Alaska           38%       20.1\n",
       "2     Arizona           73%       19.0\n",
       "3    Arkansas          100%       19.3\n",
       "4  California           23%       22.6"
      ]
     },
     "execution_count": 9,
     "metadata": {},
     "output_type": "execute_result"
    }
   ],
   "source": [
    "df_ACT_2019.head(5)"
   ]
  },
  {
   "cell_type": "markdown",
   "metadata": {
    "tags": []
   },
   "source": [
    "### SAT"
   ]
  },
  {
   "cell_type": "markdown",
   "metadata": {
    "tags": []
   },
   "source": [
    "#### 2017"
   ]
  },
  {
   "cell_type": "code",
   "execution_count": 10,
   "metadata": {},
   "outputs": [
    {
     "data": {
      "text/html": [
       "<div>\n",
       "<style scoped>\n",
       "    .dataframe tbody tr th:only-of-type {\n",
       "        vertical-align: middle;\n",
       "    }\n",
       "\n",
       "    .dataframe tbody tr th {\n",
       "        vertical-align: top;\n",
       "    }\n",
       "\n",
       "    .dataframe thead th {\n",
       "        text-align: right;\n",
       "    }\n",
       "</style>\n",
       "<table border=\"1\" class=\"dataframe\">\n",
       "  <thead>\n",
       "    <tr style=\"text-align: right;\">\n",
       "      <th></th>\n",
       "      <th>State</th>\n",
       "      <th>Participation</th>\n",
       "      <th>Evidence-Based Reading and Writing</th>\n",
       "      <th>Math</th>\n",
       "      <th>Total</th>\n",
       "    </tr>\n",
       "  </thead>\n",
       "  <tbody>\n",
       "    <tr>\n",
       "      <th>0</th>\n",
       "      <td>Alabama</td>\n",
       "      <td>5%</td>\n",
       "      <td>593</td>\n",
       "      <td>572</td>\n",
       "      <td>1165</td>\n",
       "    </tr>\n",
       "    <tr>\n",
       "      <th>1</th>\n",
       "      <td>Alaska</td>\n",
       "      <td>38%</td>\n",
       "      <td>547</td>\n",
       "      <td>533</td>\n",
       "      <td>1080</td>\n",
       "    </tr>\n",
       "    <tr>\n",
       "      <th>2</th>\n",
       "      <td>Arizona</td>\n",
       "      <td>30%</td>\n",
       "      <td>563</td>\n",
       "      <td>553</td>\n",
       "      <td>1116</td>\n",
       "    </tr>\n",
       "    <tr>\n",
       "      <th>3</th>\n",
       "      <td>Arkansas</td>\n",
       "      <td>3%</td>\n",
       "      <td>614</td>\n",
       "      <td>594</td>\n",
       "      <td>1208</td>\n",
       "    </tr>\n",
       "    <tr>\n",
       "      <th>4</th>\n",
       "      <td>California</td>\n",
       "      <td>53%</td>\n",
       "      <td>531</td>\n",
       "      <td>524</td>\n",
       "      <td>1055</td>\n",
       "    </tr>\n",
       "  </tbody>\n",
       "</table>\n",
       "</div>"
      ],
      "text/plain": [
       "        State Participation  Evidence-Based Reading and Writing  Math  Total\n",
       "0     Alabama            5%                                 593   572   1165\n",
       "1      Alaska           38%                                 547   533   1080\n",
       "2     Arizona           30%                                 563   553   1116\n",
       "3    Arkansas            3%                                 614   594   1208\n",
       "4  California           53%                                 531   524   1055"
      ]
     },
     "execution_count": 10,
     "metadata": {},
     "output_type": "execute_result"
    }
   ],
   "source": [
    "df_SAT_2017.head(5)"
   ]
  },
  {
   "cell_type": "markdown",
   "metadata": {
    "tags": []
   },
   "source": [
    "#### 2018"
   ]
  },
  {
   "cell_type": "code",
   "execution_count": 11,
   "metadata": {},
   "outputs": [
    {
     "data": {
      "text/html": [
       "<div>\n",
       "<style scoped>\n",
       "    .dataframe tbody tr th:only-of-type {\n",
       "        vertical-align: middle;\n",
       "    }\n",
       "\n",
       "    .dataframe tbody tr th {\n",
       "        vertical-align: top;\n",
       "    }\n",
       "\n",
       "    .dataframe thead th {\n",
       "        text-align: right;\n",
       "    }\n",
       "</style>\n",
       "<table border=\"1\" class=\"dataframe\">\n",
       "  <thead>\n",
       "    <tr style=\"text-align: right;\">\n",
       "      <th></th>\n",
       "      <th>State</th>\n",
       "      <th>Participation</th>\n",
       "      <th>Evidence-Based Reading and Writing</th>\n",
       "      <th>Math</th>\n",
       "      <th>Total</th>\n",
       "    </tr>\n",
       "  </thead>\n",
       "  <tbody>\n",
       "    <tr>\n",
       "      <th>0</th>\n",
       "      <td>Alabama</td>\n",
       "      <td>6%</td>\n",
       "      <td>595</td>\n",
       "      <td>571</td>\n",
       "      <td>1166</td>\n",
       "    </tr>\n",
       "    <tr>\n",
       "      <th>1</th>\n",
       "      <td>Alaska</td>\n",
       "      <td>43%</td>\n",
       "      <td>562</td>\n",
       "      <td>544</td>\n",
       "      <td>1106</td>\n",
       "    </tr>\n",
       "    <tr>\n",
       "      <th>2</th>\n",
       "      <td>Arizona</td>\n",
       "      <td>29%</td>\n",
       "      <td>577</td>\n",
       "      <td>572</td>\n",
       "      <td>1149</td>\n",
       "    </tr>\n",
       "    <tr>\n",
       "      <th>3</th>\n",
       "      <td>Arkansas</td>\n",
       "      <td>5%</td>\n",
       "      <td>592</td>\n",
       "      <td>576</td>\n",
       "      <td>1169</td>\n",
       "    </tr>\n",
       "    <tr>\n",
       "      <th>4</th>\n",
       "      <td>California</td>\n",
       "      <td>60%</td>\n",
       "      <td>540</td>\n",
       "      <td>536</td>\n",
       "      <td>1076</td>\n",
       "    </tr>\n",
       "  </tbody>\n",
       "</table>\n",
       "</div>"
      ],
      "text/plain": [
       "        State Participation  Evidence-Based Reading and Writing  Math  Total\n",
       "0     Alabama            6%                                 595   571   1166\n",
       "1      Alaska           43%                                 562   544   1106\n",
       "2     Arizona           29%                                 577   572   1149\n",
       "3    Arkansas            5%                                 592   576   1169\n",
       "4  California           60%                                 540   536   1076"
      ]
     },
     "execution_count": 11,
     "metadata": {},
     "output_type": "execute_result"
    }
   ],
   "source": [
    "df_SAT_2018.head(5)"
   ]
  },
  {
   "cell_type": "markdown",
   "metadata": {
    "tags": []
   },
   "source": [
    "#### 2019"
   ]
  },
  {
   "cell_type": "code",
   "execution_count": 12,
   "metadata": {},
   "outputs": [
    {
     "data": {
      "text/html": [
       "<div>\n",
       "<style scoped>\n",
       "    .dataframe tbody tr th:only-of-type {\n",
       "        vertical-align: middle;\n",
       "    }\n",
       "\n",
       "    .dataframe tbody tr th {\n",
       "        vertical-align: top;\n",
       "    }\n",
       "\n",
       "    .dataframe thead th {\n",
       "        text-align: right;\n",
       "    }\n",
       "</style>\n",
       "<table border=\"1\" class=\"dataframe\">\n",
       "  <thead>\n",
       "    <tr style=\"text-align: right;\">\n",
       "      <th></th>\n",
       "      <th>State</th>\n",
       "      <th>Participation Rate</th>\n",
       "      <th>EBRW</th>\n",
       "      <th>Math</th>\n",
       "      <th>Total</th>\n",
       "    </tr>\n",
       "  </thead>\n",
       "  <tbody>\n",
       "    <tr>\n",
       "      <th>0</th>\n",
       "      <td>Alabama</td>\n",
       "      <td>7%</td>\n",
       "      <td>583</td>\n",
       "      <td>560</td>\n",
       "      <td>1143</td>\n",
       "    </tr>\n",
       "    <tr>\n",
       "      <th>1</th>\n",
       "      <td>Alaska</td>\n",
       "      <td>41%</td>\n",
       "      <td>556</td>\n",
       "      <td>541</td>\n",
       "      <td>1097</td>\n",
       "    </tr>\n",
       "    <tr>\n",
       "      <th>2</th>\n",
       "      <td>Arizona</td>\n",
       "      <td>31%</td>\n",
       "      <td>569</td>\n",
       "      <td>565</td>\n",
       "      <td>1134</td>\n",
       "    </tr>\n",
       "    <tr>\n",
       "      <th>3</th>\n",
       "      <td>Arkansas</td>\n",
       "      <td>6%</td>\n",
       "      <td>582</td>\n",
       "      <td>559</td>\n",
       "      <td>1141</td>\n",
       "    </tr>\n",
       "    <tr>\n",
       "      <th>4</th>\n",
       "      <td>California</td>\n",
       "      <td>63%</td>\n",
       "      <td>534</td>\n",
       "      <td>531</td>\n",
       "      <td>1065</td>\n",
       "    </tr>\n",
       "  </tbody>\n",
       "</table>\n",
       "</div>"
      ],
      "text/plain": [
       "        State Participation Rate  EBRW  Math  Total\n",
       "0     Alabama                 7%   583   560   1143\n",
       "1      Alaska                41%   556   541   1097\n",
       "2     Arizona                31%   569   565   1134\n",
       "3    Arkansas                 6%   582   559   1141\n",
       "4  California                63%   534   531   1065"
      ]
     },
     "execution_count": 12,
     "metadata": {},
     "output_type": "execute_result"
    }
   ],
   "source": [
    "df_SAT_2019.head(5)"
   ]
  },
  {
   "cell_type": "markdown",
   "metadata": {
    "tags": []
   },
   "source": [
    "## Rename columns\n",
    "Drop unnecessary rows (if needed)."
   ]
  },
  {
   "cell_type": "code",
   "execution_count": 13,
   "metadata": {
    "tags": []
   },
   "outputs": [],
   "source": [
    "# change ACT columns\n",
    "df_ACT_2017.columns= df_ACT_2017.columns.str.lower()\n",
    "df_ACT_2018.columns= df_ACT_2018.columns.str.lower()\n",
    "df_ACT_2019.columns= df_ACT_2019.columns.str.lower()\n",
    "\n",
    "# change SAT columns\n",
    "df_SAT_2017.columns= df_SAT_2017.columns.str.lower()\n",
    "df_SAT_2018.columns= df_SAT_2018.columns.str.lower()\n",
    "df_SAT_2019.columns= df_SAT_2019.columns.str.lower()\n",
    "\n",
    "# df_SAT_2019_icm.columns= df_SAT_2019_icm.columns.str.lower()\n"
   ]
  },
  {
   "cell_type": "markdown",
   "metadata": {
    "tags": []
   },
   "source": [
    "## Data Dictionary Function"
   ]
  },
  {
   "cell_type": "code",
   "execution_count": 14,
   "metadata": {},
   "outputs": [],
   "source": [
    "# Standard deviation dictionary function\n",
    "def std_dict(df):\n",
    "    return {df.columns[x]:round((df[df.columns[x]].dropna()).std(),2) for x,col_type in enumerate(df.dtypes) if ((str(col_type) == 'float64') | (str(col_type) == 'int64'))}"
   ]
  },
  {
   "cell_type": "code",
   "execution_count": 15,
   "metadata": {},
   "outputs": [
    {
     "data": {
      "text/plain": [
       "{'english': 2.33, 'math': 1.96, 'reading': 2.05, 'science': 3.15}"
      ]
     },
     "execution_count": 15,
     "metadata": {},
     "output_type": "execute_result"
    }
   ],
   "source": [
    "# Standard deviation dictionary\n",
    "sd = std_dict(df_ACT_2017)\n",
    "sd\n"
   ]
  },
  {
   "cell_type": "markdown",
   "metadata": {
    "tags": []
   },
   "source": [
    "## EDA ACT "
   ]
  },
  {
   "cell_type": "markdown",
   "metadata": {
    "tags": []
   },
   "source": [
    "### See Missing Values\n",
    "Check for missing values."
   ]
  },
  {
   "cell_type": "code",
   "execution_count": 16,
   "metadata": {},
   "outputs": [
    {
     "data": {
      "text/plain": [
       "state            0\n",
       "participation    0\n",
       "english          0\n",
       "math             0\n",
       "reading          0\n",
       "science          0\n",
       "composite        0\n",
       "dtype: int64"
      ]
     },
     "execution_count": 16,
     "metadata": {},
     "output_type": "execute_result"
    }
   ],
   "source": [
    "df_ACT_2017.isna().sum()"
   ]
  },
  {
   "cell_type": "code",
   "execution_count": 17,
   "metadata": {},
   "outputs": [
    {
     "data": {
      "text/plain": [
       "state            0\n",
       "participation    0\n",
       "composite        0\n",
       "dtype: int64"
      ]
     },
     "execution_count": 17,
     "metadata": {},
     "output_type": "execute_result"
    }
   ],
   "source": [
    "df_ACT_2018.isna().sum()"
   ]
  },
  {
   "cell_type": "code",
   "execution_count": 18,
   "metadata": {},
   "outputs": [
    {
     "data": {
      "text/plain": [
       "state            0\n",
       "participation    0\n",
       "composite        0\n",
       "dtype: int64"
      ]
     },
     "execution_count": 18,
     "metadata": {},
     "output_type": "execute_result"
    }
   ],
   "source": [
    "df_ACT_2019.isna().sum()"
   ]
  },
  {
   "cell_type": "markdown",
   "metadata": {
    "tags": []
   },
   "source": [
    "### Change Dtypes / Drop Unecessary Data "
   ]
  },
  {
   "cell_type": "markdown",
   "metadata": {
    "tags": []
   },
   "source": [
    "#### 2017"
   ]
  },
  {
   "cell_type": "code",
   "execution_count": 19,
   "metadata": {},
   "outputs": [],
   "source": [
    "# change datatypes, and clean\n",
    "df_ACT_2017['participation'] = df_ACT_2017['participation'].apply(string_float)\n",
    "df_ACT_2017['composite'] = df_ACT_2017['composite'].apply(lambda x: re.sub(r'[^0-9^\\-\\.]+', '', x)).replace('', np.float64(0)).astype('float64')\n",
    "# drop unecessary col\n",
    "df_ACT_2017_cleaned = df_ACT_2017.drop(['english', 'math', 'reading', 'science'], axis=1)"
   ]
  },
  {
   "cell_type": "markdown",
   "metadata": {
    "tags": []
   },
   "source": [
    "#### 2018"
   ]
  },
  {
   "cell_type": "code",
   "execution_count": 20,
   "metadata": {},
   "outputs": [],
   "source": [
    "# change data types\n",
    "df_ACT_2018['participation'] = df_ACT_2018['participation'].apply(string_float)\n",
    "df_ACT_2018_cleaned = df_ACT_2018.convert_dtypes()"
   ]
  },
  {
   "cell_type": "markdown",
   "metadata": {
    "tags": []
   },
   "source": [
    "#### 2019"
   ]
  },
  {
   "cell_type": "code",
   "execution_count": 21,
   "metadata": {},
   "outputs": [],
   "source": [
    "# change datatype\n",
    "df_ACT_2019['participation'] = df_ACT_2019['participation'].apply(string_float)\n",
    "df_ACT_2019_cleaned = df_ACT_2019.convert_dtypes()"
   ]
  },
  {
   "cell_type": "markdown",
   "metadata": {
    "tags": []
   },
   "source": [
    "### Make df's as csv's"
   ]
  },
  {
   "cell_type": "code",
   "execution_count": 22,
   "metadata": {
    "tags": []
   },
   "outputs": [],
   "source": [
    "df_ACT_2017_cleaned.to_csv('../new_data/ACT_2017_cleaned.csv', index=False)\n",
    "df_ACT_2018_cleaned.to_csv('../new_data/ACT_2018_cleaned.csv', index=False)\n",
    "df_ACT_2019_cleaned.to_csv('../new_data/ACT_2019_cleaned.csv', index=False)\n",
    "# clened_ACT_CA_c_avg.to_csv('../new_data/clened_ACT_CA_c_avg.csv', index=False)"
   ]
  },
  {
   "cell_type": "markdown",
   "metadata": {
    "jp-MarkdownHeadingCollapsed": true,
    "tags": []
   },
   "source": [
    "#### ACT Data Dictionary:\n",
    "ACT_2017_clearned\n",
    "\n",
    "\n",
    "| Field Name         | Type                   | Description                       |\n",
    "| ------------------ | ---------------------------------------------------------- |\n",
    "| **State**          | string                 | States Name                       |                    \n",
    "| **Participation**  | float                  | Percent of Participation of ACT   |\n",
    "| **Composite**      | float                  | Average Composite Score of ACT    | \n",
    "\n",
    "\n",
    "ACT_2018_clearned\n",
    "\n",
    "| Field Name         | Type                   | Description                       |\n",
    "| ------------------ | ---------------------------------------------------------- |\n",
    "| **State**          | string                 | States Name                       |                    \n",
    "| **Participation**  | float                  | Percent of Participation of ACT   |\n",
    "| **Composite**      | float                  | Average Composite Score of ACT    | \n",
    "\n",
    "\n",
    "ACT_2019_clearned\n",
    "\n",
    "| Field Name         | Type                   | Description                       |\n",
    "| ------------------ | ---------------------------------------------------------- |\n",
    "| **State**          | string                 | States Name                       |                    \n",
    "| **Participation**  | float                  | Percent of Participation of ACT   |\n",
    "| **Composite**      | float                  | Average Composite Score of ACT    | \n"
   ]
  },
  {
   "cell_type": "markdown",
   "metadata": {
    "tags": []
   },
   "source": [
    "## ACT Findings/Visuals"
   ]
  },
  {
   "cell_type": "code",
   "execution_count": 23,
   "metadata": {
    "tags": []
   },
   "outputs": [],
   "source": [
    "# add year column for concat features\n",
    "df_ACT_2017_cleaned['year'] = 2017\n",
    "df_ACT_2018_cleaned['year'] = 2018\n",
    "df_ACT_2019_cleaned['year'] = 2019\n"
   ]
  },
  {
   "cell_type": "code",
   "execution_count": 24,
   "metadata": {
    "tags": []
   },
   "outputs": [
    {
     "data": {
      "image/png": "[encoded data removed]",
      "text/plain": [
       "<Figure size 1440x720 with 1 Axes>"
      ]
     },
     "metadata": {},
     "output_type": "display_data"
    }
   ],
   "source": [
    "# combine df\n",
    "df = pd.concat([df_ACT_2017_cleaned, df_ACT_2018_cleaned, df_ACT_2019_cleaned])\n",
    "# make boxplot\n",
    "sns.set(rc = {'figure.figsize':(20,10)})\n",
    "sns.boxplot(x='year', y='participation', data=df, showmeans=True, \n",
    "                 meanprops={\"marker\":\"o\",\n",
    "                            \"markerfacecolor\":\"white\", \n",
    "                            \"markeredgecolor\":\"black\",\n",
    "                            \"markersize\":\"20\"})\n",
    "# add scatter aspect\n",
    "sns.swarmplot(x='year', y='participation', data=df, color=\"yellow\", size=7)\n",
    "\n",
    "# labels\n",
    "plt.ylabel(\"Participation(%)\", size=15)\n",
    "plt.xlabel(\"Year\", size=15)\n",
    "plt.title(\"ACT Participation Descriptive Variables Over Time\", size=20)\n",
    "plt.savefig(\"./img/part_descrip_ACT.png\")"
   ]
  },
  {
   "cell_type": "code",
   "execution_count": 25,
   "metadata": {
    "tags": []
   },
   "outputs": [
    {
     "name": "stdout",
     "output_type": "stream",
     "text": [
      "57.0\n",
      "55.84\n",
      "53.56\n"
     ]
    }
   ],
   "source": [
    "# print means\n",
    "print(round(df_ACT_2017_cleaned.describe().mean()['participation'], 2))\n",
    "print(round(df_ACT_2018_cleaned.describe().mean()['participation'], 2))\n",
    "print(round(df_ACT_2019_cleaned.describe().mean()['participation'], 2))"
   ]
  },
  {
   "cell_type": "markdown",
   "metadata": {},
   "source": [
    "Analysis:\n",
    "As you can see each year the Participation mean each year gets smaller.  This is heavily correlated to colleges becoming less relient on ACT scores in general?"
   ]
  },
  {
   "cell_type": "code",
   "execution_count": 26,
   "metadata": {
    "tags": []
   },
   "outputs": [
    {
     "data": {
      "image/png": "[encoded data removed]",
      "text/plain": [
       "<Figure size 1440x720 with 1 Axes>"
      ]
     },
     "metadata": {},
     "output_type": "display_data"
    }
   ],
   "source": [
    "# combine df's\n",
    "df = pd.concat([df_ACT_2017_cleaned, df_ACT_2018_cleaned, df_ACT_2019_cleaned])\n",
    "# make plot\n",
    "sns.set(rc = {'figure.figsize':(20,10)})\n",
    "sns.boxplot(x='year', y='composite', data=df, showmeans=True, \n",
    "                 meanprops={\"marker\":\"o\",\n",
    "                            \"markerfacecolor\":\"white\", \n",
    "                            \"markeredgecolor\":\"black\",\n",
    "                            \"markersize\":\"20\"})\n",
    "# add scatter aspect\n",
    "sns.swarmplot(x='year', y='composite', data=df, color=\"yellow\", size=7)\n",
    "# labels\n",
    "plt.ylabel(\"Composite Score(1-36)\", size=15)\n",
    "plt.xlabel(\"Year\", size=15)\n",
    "plt.title(\"ACT Composite Score Descriptive Variables Over Time\", size=20)\n",
    "plt.savefig(\"./img/comp_descrip_ACT.png\")"
   ]
  },
  {
   "cell_type": "code",
   "execution_count": 27,
   "metadata": {
    "tags": []
   },
   "outputs": [
    {
     "name": "stdout",
     "output_type": "stream",
     "text": [
      "23.0\n",
      "23.0\n",
      "23.0\n"
     ]
    }
   ],
   "source": [
    "# print mean  \n",
    "print(round(df_ACT_2017_cleaned.describe().mean()['composite'], 0))\n",
    "print(round(df_ACT_2018_cleaned.describe().mean()['composite'], 0))\n",
    "print(round(df_ACT_2019_cleaned.describe().mean()['composite'], 0))"
   ]
  },
  {
   "cell_type": "markdown",
   "metadata": {},
   "source": [
    "Analysis: With a lower participation year by year you can see that this doesnt effect the composition score much but you can still see in 2019 of individuals below the mean is more clustered then that of past years.  Could this be due to A specifc state or harder tests being administered."
   ]
  },
  {
   "cell_type": "code",
   "execution_count": 28,
   "metadata": {
    "tags": []
   },
   "outputs": [],
   "source": [
    "# combine df\n",
    "df_ACT = pd.concat([df_ACT_2017_cleaned, df_ACT_2018_cleaned, df_ACT_2019_cleaned])\n",
    "# convert dtypes\n",
    "df_ACT = df_ACT.convert_dtypes()\n",
    "df_ACT.reset_index(inplace=True)\n"
   ]
  },
  {
   "cell_type": "code",
   "execution_count": 29,
   "metadata": {
    "tags": []
   },
   "outputs": [
    {
     "data": {
      "image/png": "[encoded data removed]",
      "text/plain": [
       "<Figure size 720x720 with 2 Axes>"
      ]
     },
     "metadata": {},
     "output_type": "display_data"
    }
   ],
   "source": [
    "# kdeplot heat map\n",
    "sns.set(rc = {'figure.figsize':(10,10)})\n",
    "# plot\n",
    "sns.kdeplot(x=df_ACT['participation'], y=df_ACT['composite'], cmap=\"crest\", shade=True, bw_adjust=0.7, cbar=True)\n",
    "# label\n",
    "plt.ylabel(\"Composite Score(1-36)\", size=15)\n",
    "plt.xlabel(\"Participation(%)\", size=15)\n",
    "plt.title(\"ACT Participation(%) Vs Composite Score\", size=20)\n",
    "plt.savefig(\"./img/part_comp_ACT.png\")"
   ]
  },
  {
   "cell_type": "markdown",
   "metadata": {},
   "source": [
    "Analysis: As you can see the more participation the more the the composite score drops. (This can be seen in the darker blue areas.)"
   ]
  },
  {
   "cell_type": "markdown",
   "metadata": {
    "tags": []
   },
   "source": [
    "### States with lowest participation and score each year"
   ]
  },
  {
   "cell_type": "code",
   "execution_count": 30,
   "metadata": {
    "tags": []
   },
   "outputs": [
    {
     "data": {
      "application/vnd.plotly.v1+json": {
       "config": {
        "plotlyServerURL": "https://plot.ly"
       },
       "data": [
        {
         "legendgroup": "group1",
         "legendgrouptitle": {
          "text": "Participation"
         },
         "marker": {
          "color": "blue"
         },
         "name": "%",
         "orientation": "h",
         "type": "bar",
         "x": [
          8,
          18,
          18,
          21,
          23
         ],
         "xaxis": "x",
         "y": [
          "Maine",
          "New Hampshire",
          "Delaware",
          "Rhode Island",
          "Pennsylvania"
         ],
         "yaxis": "y"
        },
        {
         "legendgroup": "group2",
         "legendgrouptitle": {
          "text": "Average Composite Score"
         },
         "marker": {
          "color": "red"
         },
         "name": "Composite Score",
         "orientation": "h",
         "type": "bar",
         "x": [
          24.3,
          25.5,
          24.1,
          24,
          23.7
         ],
         "xaxis": "x",
         "y": [
          "Maine",
          "New Hampshire",
          "Delaware",
          "Rhode Island",
          "Pennsylvania"
         ],
         "yaxis": "y"
        },
        {
         "legendgroup": "group1",
         "marker": {
          "color": "blue"
         },
         "orientation": "h",
         "showlegend": false,
         "type": "bar",
         "x": [
          100,
          100,
          100,
          90,
          100
         ],
         "xaxis": "x4",
         "y": [
          "Nevada",
          "Mississippi",
          "South Carolina",
          "Hawaii",
          "North Carolina"
         ],
         "yaxis": "y4"
        },
        {
         "legendgroup": "group2",
         "marker": {
          "color": "red"
         },
         "orientation": "h",
         "showlegend": false,
         "type": "bar",
         "x": [
          17.8,
          18.6,
          18.7,
          19,
          19.1
         ],
         "xaxis": "x4",
         "y": [
          "Nevada",
          "Mississippi",
          "South Carolina",
          "Hawaii",
          "North Carolina"
         ],
         "yaxis": "y4"
        },
        {
         "legendgroup": "group1",
         "marker": {
          "color": "blue"
         },
         "orientation": "h",
         "showlegend": false,
         "type": "bar",
         "x": [
          7,
          7,
          15,
          16,
          17
         ],
         "xaxis": "x2",
         "y": [
          "Maine",
          "Maine",
          "Rhode Island",
          "New Hampshire",
          "Delaware"
         ],
         "yaxis": "y2"
        },
        {
         "legendgroup": "group2",
         "marker": {
          "color": "red"
         },
         "orientation": "h",
         "showlegend": false,
         "type": "bar",
         "x": [
          24,
          24,
          24.2,
          25.1,
          23.8
         ],
         "xaxis": "x2",
         "y": [
          "Maine",
          "Maine",
          "Rhode Island",
          "New Hampshire",
          "Delaware"
         ],
         "yaxis": "y2"
        },
        {
         "legendgroup": "group1",
         "marker": {
          "color": "blue"
         },
         "orientation": "h",
         "showlegend": false,
         "type": "bar",
         "x": [
          100,
          100,
          100,
          89,
          100
         ],
         "xaxis": "x5",
         "y": [
          "Nevada",
          "South Carolina",
          "Mississippi",
          "Hawaii",
          "North Carolina"
         ],
         "yaxis": "y5"
        },
        {
         "legendgroup": "group2",
         "marker": {
          "color": "red"
         },
         "orientation": "h",
         "showlegend": false,
         "type": "bar",
         "x": [
          17.7,
          18.3,
          18.6,
          18.9,
          19.1
         ],
         "xaxis": "x5",
         "y": [
          "Nevada",
          "South Carolina",
          "Mississippi",
          "Hawaii",
          "North Carolina"
         ],
         "yaxis": "y5"
        },
        {
         "legendgroup": "group1",
         "marker": {
          "color": "blue"
         },
         "orientation": "h",
         "showlegend": false,
         "type": "bar",
         "x": [
          6,
          12,
          13,
          14,
          17
         ],
         "xaxis": "x3",
         "y": [
          "Maine",
          "Rhode Island",
          "Delaware",
          "New Hampshire",
          "Pennsylvania"
         ],
         "yaxis": "y3"
        },
        {
         "legendgroup": "group2",
         "marker": {
          "color": "red"
         },
         "orientation": "h",
         "showlegend": false,
         "type": "bar",
         "x": [
          24.3,
          24.7,
          24.1,
          25,
          23.6
         ],
         "xaxis": "x3",
         "y": [
          "Maine",
          "Rhode Island",
          "Delaware",
          "New Hampshire",
          "Pennsylvania"
         ],
         "yaxis": "y3"
        },
        {
         "legendgroup": "group1",
         "marker": {
          "color": "blue"
         },
         "orientation": "h",
         "showlegend": false,
         "type": "bar",
         "x": [
          100,
          100,
          100,
          78,
          100
         ],
         "xaxis": "x6",
         "y": [
          "Nevada",
          "Mississippi",
          "Louisiana",
          "South Carolina",
          "Oklahoma"
         ],
         "yaxis": "y6"
        },
        {
         "legendgroup": "group2",
         "marker": {
          "color": "red"
         },
         "orientation": "h",
         "showlegend": false,
         "type": "bar",
         "x": [
          17.9,
          18.4,
          18.8,
          18.8,
          18.9
         ],
         "xaxis": "x6",
         "y": [
          "Nevada",
          "Mississippi",
          "Louisiana",
          "South Carolina",
          "Oklahoma"
         ],
         "yaxis": "y6"
        }
       ],
       "layout": {
        "boxgap": 0.8,
        "boxgroupgap": 0.7,
        "boxmode": "group",
        "paper_bgcolor": "rgba(0,0,0,0)",
        "showlegend": true,
        "template": {
         "data": {
          "bar": [
           {
            "error_x": {
             "color": "#2a3f5f"
            },
            "error_y": {
             "color": "#2a3f5f"
            },
            "marker": {
             "line": {
              "color": "#E5ECF6",
              "width": 0.5
             },
             "pattern": {
              "fillmode": "overlay",
              "size": 10,
              "solidity": 0.2
             }
            },
            "type": "bar"
           }
          ],
          "barpolar": [
           {
            "marker": {
             "line": {
              "color": "#E5ECF6",
              "width": 0.5
             },
             "pattern": {
              "fillmode": "overlay",
              "size": 10,
              "solidity": 0.2
             }
            },
            "type": "barpolar"
           }
          ],
          "carpet": [
           {
            "aaxis": {
             "endlinecolor": "#2a3f5f",
             "gridcolor": "white",
             "linecolor": "white",
             "minorgridcolor": "white",
             "startlinecolor": "#2a3f5f"
            },
            "baxis": {
             "endlinecolor": "#2a3f5f",
             "gridcolor": "white",
             "linecolor": "white",
             "minorgridcolor": "white",
             "startlinecolor": "#2a3f5f"
            },
            "type": "carpet"
           }
          ],
          "choropleth": [
           {
            "colorbar": {
             "outlinewidth": 0,
             "ticks": ""
            },
            "type": "choropleth"
           }
          ],
          "contour": [
           {
            "colorbar": {
             "outlinewidth": 0,
             "ticks": ""
            },
            "colorscale": [
             [
              0,
              "#0d0887"
             ],
             [
              0.1111111111111111,
              "#46039f"
             ],
             [
              0.2222222222222222,
              "#7201a8"
             ],
             [
              0.3333333333333333,
              "#9c179e"
             ],
             [
              0.4444444444444444,
              "#bd3786"
             ],
             [
              0.5555555555555556,
              "#d8576b"
             ],
             [
              0.6666666666666666,
              "#ed7953"
             ],
             [
              0.7777777777777778,
              "#fb9f3a"
             ],
             [
              0.8888888888888888,
              "#fdca26"
             ],
             [
              1,
              "#f0f921"
             ]
            ],
            "type": "contour"
           }
          ],
          "contourcarpet": [
           {
            "colorbar": {
             "outlinewidth": 0,
             "ticks": ""
            },
            "type": "contourcarpet"
           }
          ],
          "heatmap": [
           {
            "colorbar": {
             "outlinewidth": 0,
             "ticks": ""
            },
            "colorscale": [
             [
              0,
              "#0d0887"
             ],
             [
              0.1111111111111111,
              "#46039f"
             ],
             [
              0.2222222222222222,
              "#7201a8"
             ],
             [
              0.3333333333333333,
              "#9c179e"
             ],
             [
              0.4444444444444444,
              "#bd3786"
             ],
             [
              0.5555555555555556,
              "#d8576b"
             ],
             [
              0.6666666666666666,
              "#ed7953"
             ],
             [
              0.7777777777777778,
              "#fb9f3a"
             ],
             [
              0.8888888888888888,
              "#fdca26"
             ],
             [
              1,
              "#f0f921"
             ]
            ],
            "type": "heatmap"
           }
          ],
          "heatmapgl": [
           {
            "colorbar": {
             "outlinewidth": 0,
             "ticks": ""
            },
            "colorscale": [
             [
              0,
              "#0d0887"
             ],
             [
              0.1111111111111111,
              "#46039f"
             ],
             [
              0.2222222222222222,
              "#7201a8"
             ],
             [
              0.3333333333333333,
              "#9c179e"
             ],
             [
              0.4444444444444444,
              "#bd3786"
             ],
             [
              0.5555555555555556,
              "#d8576b"
             ],
             [
              0.6666666666666666,
              "#ed7953"
             ],
             [
              0.7777777777777778,
              "#fb9f3a"
             ],
             [
              0.8888888888888888,
              "#fdca26"
             ],
             [
              1,
              "#f0f921"
             ]
            ],
            "type": "heatmapgl"
           }
          ],
          "histogram": [
           {
            "marker": {
             "pattern": {
              "fillmode": "overlay",
              "size": 10,
              "solidity": 0.2
             }
            },
            "type": "histogram"
           }
          ],
          "histogram2d": [
           {
            "colorbar": {
             "outlinewidth": 0,
             "ticks": ""
            },
            "colorscale": [
             [
              0,
              "#0d0887"
             ],
             [
              0.1111111111111111,
              "#46039f"
             ],
             [
              0.2222222222222222,
              "#7201a8"
             ],
             [
              0.3333333333333333,
              "#9c179e"
             ],
             [
              0.4444444444444444,
              "#bd3786"
             ],
             [
              0.5555555555555556,
              "#d8576b"
             ],
             [
              0.6666666666666666,
              "#ed7953"
             ],
             [
              0.7777777777777778,
              "#fb9f3a"
             ],
             [
              0.8888888888888888,
              "#fdca26"
             ],
             [
              1,
              "#f0f921"
             ]
            ],
            "type": "histogram2d"
           }
          ],
          "histogram2dcontour": [
           {
            "colorbar": {
             "outlinewidth": 0,
             "ticks": ""
            },
            "colorscale": [
             [
              0,
              "#0d0887"
             ],
             [
              0.1111111111111111,
              "#46039f"
             ],
             [
              0.2222222222222222,
              "#7201a8"
             ],
             [
              0.3333333333333333,
              "#9c179e"
             ],
             [
              0.4444444444444444,
              "#bd3786"
             ],
             [
              0.5555555555555556,
              "#d8576b"
             ],
             [
              0.6666666666666666,
              "#ed7953"
             ],
             [
              0.7777777777777778,
              "#fb9f3a"
             ],
             [
              0.8888888888888888,
              "#fdca26"
             ],
             [
              1,
              "#f0f921"
             ]
            ],
            "type": "histogram2dcontour"
           }
          ],
          "mesh3d": [
           {
            "colorbar": {
             "outlinewidth": 0,
             "ticks": ""
            },
            "type": "mesh3d"
           }
          ],
          "parcoords": [
           {
            "line": {
             "colorbar": {
              "outlinewidth": 0,
              "ticks": ""
             }
            },
            "type": "parcoords"
           }
          ],
          "pie": [
           {
            "automargin": true,
            "type": "pie"
           }
          ],
          "scatter": [
           {
            "fillpattern": {
             "fillmode": "overlay",
             "size": 10,
             "solidity": 0.2
            },
            "type": "scatter"
           }
          ],
          "scatter3d": [
           {
            "line": {
             "colorbar": {
              "outlinewidth": 0,
              "ticks": ""
             }
            },
            "marker": {
             "colorbar": {
              "outlinewidth": 0,
              "ticks": ""
             }
            },
            "type": "scatter3d"
           }
          ],
          "scattercarpet": [
           {
            "marker": {
             "colorbar": {
              "outlinewidth": 0,
              "ticks": ""
             }
            },
            "type": "scattercarpet"
           }
          ],
          "scattergeo": [
           {
            "marker": {
             "colorbar": {
              "outlinewidth": 0,
              "ticks": ""
             }
            },
            "type": "scattergeo"
           }
          ],
          "scattergl": [
           {
            "marker": {
             "colorbar": {
              "outlinewidth": 0,
              "ticks": ""
             }
            },
            "type": "scattergl"
           }
          ],
          "scattermapbox": [
           {
            "marker": {
             "colorbar": {
              "outlinewidth": 0,
              "ticks": ""
             }
            },
            "type": "scattermapbox"
           }
          ],
          "scatterpolar": [
           {
            "marker": {
             "colorbar": {
              "outlinewidth": 0,
              "ticks": ""
             }
            },
            "type": "scatterpolar"
           }
          ],
          "scatterpolargl": [
           {
            "marker": {
             "colorbar": {
              "outlinewidth": 0,
              "ticks": ""
             }
            },
            "type": "scatterpolargl"
           }
          ],
          "scatterternary": [
           {
            "marker": {
             "colorbar": {
              "outlinewidth": 0,
              "ticks": ""
             }
            },
            "type": "scatterternary"
           }
          ],
          "surface": [
           {
            "colorbar": {
             "outlinewidth": 0,
             "ticks": ""
            },
            "colorscale": [
             [
              0,
              "#0d0887"
             ],
             [
              0.1111111111111111,
              "#46039f"
             ],
             [
              0.2222222222222222,
              "#7201a8"
             ],
             [
              0.3333333333333333,
              "#9c179e"
             ],
             [
              0.4444444444444444,
              "#bd3786"
             ],
             [
              0.5555555555555556,
              "#d8576b"
             ],
             [
              0.6666666666666666,
              "#ed7953"
             ],
             [
              0.7777777777777778,
              "#fb9f3a"
             ],
             [
              0.8888888888888888,
              "#fdca26"
             ],
             [
              1,
              "#f0f921"
             ]
            ],
            "type": "surface"
           }
          ],
          "table": [
           {
            "cells": {
             "fill": {
              "color": "#EBF0F8"
             },
             "line": {
              "color": "white"
             }
            },
            "header": {
             "fill": {
              "color": "#C8D4E3"
             },
             "line": {
              "color": "white"
             }
            },
            "type": "table"
           }
          ]
         },
         "layout": {
          "annotationdefaults": {
           "arrowcolor": "#2a3f5f",
           "arrowhead": 0,
           "arrowwidth": 1
          },
          "autotypenumbers": "strict",
          "coloraxis": {
           "colorbar": {
            "outlinewidth": 0,
            "ticks": ""
           }
          },
          "colorscale": {
           "diverging": [
            [
             0,
             "#8e0152"
            ],
            [
             0.1,
             "#c51b7d"
            ],
            [
             0.2,
             "#de77ae"
            ],
            [
             0.3,
             "#f1b6da"
            ],
            [
             0.4,
             "#fde0ef"
            ],
            [
             0.5,
             "#f7f7f7"
            ],
            [
             0.6,
             "#e6f5d0"
            ],
            [
             0.7,
             "#b8e186"
            ],
            [
             0.8,
             "#7fbc41"
            ],
            [
             0.9,
             "#4d9221"
            ],
            [
             1,
             "#276419"
            ]
           ],
           "sequential": [
            [
             0,
             "#0d0887"
            ],
            [
             0.1111111111111111,
             "#46039f"
            ],
            [
             0.2222222222222222,
             "#7201a8"
            ],
            [
             0.3333333333333333,
             "#9c179e"
            ],
            [
             0.4444444444444444,
             "#bd3786"
            ],
            [
             0.5555555555555556,
             "#d8576b"
            ],
            [
             0.6666666666666666,
             "#ed7953"
            ],
            [
             0.7777777777777778,
             "#fb9f3a"
            ],
            [
             0.8888888888888888,
             "#fdca26"
            ],
            [
             1,
             "#f0f921"
            ]
           ],
           "sequentialminus": [
            [
             0,
             "#0d0887"
            ],
            [
             0.1111111111111111,
             "#46039f"
            ],
            [
             0.2222222222222222,
             "#7201a8"
            ],
            [
             0.3333333333333333,
             "#9c179e"
            ],
            [
             0.4444444444444444,
             "#bd3786"
            ],
            [
             0.5555555555555556,
             "#d8576b"
            ],
            [
             0.6666666666666666,
             "#ed7953"
            ],
            [
             0.7777777777777778,
             "#fb9f3a"
            ],
            [
             0.8888888888888888,
             "#fdca26"
            ],
            [
             1,
             "#f0f921"
            ]
           ]
          },
          "colorway": [
           "#636efa",
           "#EF553B",
           "#00cc96",
           "#ab63fa",
           "#FFA15A",
           "#19d3f3",
           "#FF6692",
           "#B6E880",
           "#FF97FF",
           "#FECB52"
          ],
          "font": {
           "color": "#2a3f5f"
          },
          "geo": {
           "bgcolor": "white",
           "lakecolor": "white",
           "landcolor": "#E5ECF6",
           "showlakes": true,
           "showland": true,
           "subunitcolor": "white"
          },
          "hoverlabel": {
           "align": "left"
          },
          "hovermode": "closest",
          "mapbox": {
           "style": "light"
          },
          "paper_bgcolor": "white",
          "plot_bgcolor": "#E5ECF6",
          "polar": {
           "angularaxis": {
            "gridcolor": "white",
            "linecolor": "white",
            "ticks": ""
           },
           "bgcolor": "#E5ECF6",
           "radialaxis": {
            "gridcolor": "white",
            "linecolor": "white",
            "ticks": ""
           }
          },
          "scene": {
           "xaxis": {
            "backgroundcolor": "#E5ECF6",
            "gridcolor": "white",
            "gridwidth": 2,
            "linecolor": "white",
            "showbackground": true,
            "ticks": "",
            "zerolinecolor": "white"
           },
           "yaxis": {
            "backgroundcolor": "#E5ECF6",
            "gridcolor": "white",
            "gridwidth": 2,
            "linecolor": "white",
            "showbackground": true,
            "ticks": "",
            "zerolinecolor": "white"
           },
           "zaxis": {
            "backgroundcolor": "#E5ECF6",
            "gridcolor": "white",
            "gridwidth": 2,
            "linecolor": "white",
            "showbackground": true,
            "ticks": "",
            "zerolinecolor": "white"
           }
          },
          "shapedefaults": {
           "line": {
            "color": "#2a3f5f"
           }
          },
          "ternary": {
           "aaxis": {
            "gridcolor": "white",
            "linecolor": "white",
            "ticks": ""
           },
           "baxis": {
            "gridcolor": "white",
            "linecolor": "white",
            "ticks": ""
           },
           "bgcolor": "#E5ECF6",
           "caxis": {
            "gridcolor": "white",
            "linecolor": "white",
            "ticks": ""
           }
          },
          "title": {
           "x": 0.05
          },
          "xaxis": {
           "automargin": true,
           "gridcolor": "white",
           "linecolor": "white",
           "ticks": "",
           "title": {
            "standoff": 15
           },
           "zerolinecolor": "white",
           "zerolinewidth": 2
          },
          "yaxis": {
           "automargin": true,
           "gridcolor": "white",
           "linecolor": "white",
           "ticks": "",
           "title": {
            "standoff": 15
           },
           "zerolinecolor": "white",
           "zerolinewidth": 2
          }
         }
        },
        "title": {
         "text": "Top 5 ACT Low and High Composite Scores/Participation(%)"
        },
        "xaxis": {
         "anchor": "y",
         "domain": [
          0,
          0.25333333333333335
         ]
        },
        "xaxis2": {
         "anchor": "y2",
         "domain": [
          0.37333333333333335,
          0.6266666666666667
         ]
        },
        "xaxis3": {
         "anchor": "y3",
         "domain": [
          0.7466666666666667,
          1
         ]
        },
        "xaxis4": {
         "anchor": "y4",
         "domain": [
          0,
          0.25333333333333335
         ],
         "title": {
          "text": "2017"
         }
        },
        "xaxis5": {
         "anchor": "y5",
         "domain": [
          0.37333333333333335,
          0.6266666666666667
         ],
         "title": {
          "text": "2018"
         }
        },
        "xaxis6": {
         "anchor": "y6",
         "domain": [
          0.7466666666666667,
          1
         ],
         "title": {
          "text": "2019"
         }
        },
        "yaxis": {
         "anchor": "x",
         "domain": [
          0.575,
          1
         ],
         "title": {
          "text": "High Score"
         }
        },
        "yaxis2": {
         "anchor": "x2",
         "domain": [
          0.575,
          1
         ]
        },
        "yaxis3": {
         "anchor": "x3",
         "domain": [
          0.575,
          1
         ]
        },
        "yaxis4": {
         "anchor": "x4",
         "domain": [
          0,
          0.425
         ],
         "title": {
          "text": "Low Score"
         }
        },
        "yaxis5": {
         "anchor": "x5",
         "domain": [
          0,
          0.425
         ]
        },
        "yaxis6": {
         "anchor": "x6",
         "domain": [
          0,
          0.425
         ]
        }
       }
      }
     },
     "metadata": {},
     "output_type": "display_data"
    }
   ],
   "source": [
    "# make subplot\n",
    "fig = make_subplots(rows=2, cols=3, specs = [[{}, {}, {}],[{}, {}, {}]], horizontal_spacing = 0.12, vertical_spacing=0.15)\n",
    "\n",
    "# 2017 High Comp Score/ Participation top 5\n",
    "worst_ACTp_2017 = df_ACT_2017_cleaned.sort_values(by='participation').head(5)\n",
    "# 2017 Low Comp Score/ Participation top 5\n",
    "worst_ACTc_2017 = df_ACT_2017_cleaned.sort_values(by='composite').head(5)\n",
    "# row 1 col 1 High Score\n",
    "# add trace\n",
    "fig.add_trace(\n",
    "    go.Bar(x=worst_ACTp_2017[\"participation\"], y=worst_ACTp_2017[\"state\"], orientation='h', marker={'color': 'blue'}, legendgroup='group1', legendgrouptitle_text=\"Participation\", name=\"%\"),\n",
    "    row=1, col=1\n",
    ")\n",
    "# add trace\n",
    "fig.add_trace(\n",
    "    go.Bar(x=worst_ACTp_2017[\"composite\"], y=worst_ACTp_2017[\"state\"], orientation='h', marker={'color': 'red'}, legendgroup='group2', legendgrouptitle_text='Average Composite Score', name=\"Composite Score\"),\n",
    "    row=1, col=1\n",
    ")\n",
    "\n",
    "# row 2 col 2 Low Score\n",
    "# add trace\n",
    "fig.add_trace(\n",
    "    go.Bar(x=worst_ACTc_2017[\"participation\"], y=worst_ACTc_2017[\"state\"], orientation='h', marker={'color': 'blue'}, legendgroup='group1',showlegend=False),\n",
    "    row=2, col=1\n",
    ")\n",
    "# add trace\n",
    "fig.add_trace(\n",
    "    go.Bar(x=worst_ACTc_2017[\"composite\"], y=worst_ACTc_2017[\"state\"], orientation='h', marker={'color': 'red'}, legendgroup='group2',showlegend=False),\n",
    "    row=2, col=1\n",
    ")\n",
    "# label col\n",
    "fig.update_xaxes(title_text=\"2017\", row=2, col=1)\n",
    "\n",
    "# 2018 High Comp Score/ Participation top 5\n",
    "worst_ACTp_2018 = df_ACT_2018_cleaned.sort_values(by='participation').head(5)\n",
    "# 2018 Low Comp Score/ Participation top 5\n",
    "worst_ACTc_2018 = df_ACT_2018_cleaned.sort_values(by='composite').head(5) \n",
    "# row 1 col 2\n",
    "# add  trace\n",
    "fig.add_trace(\n",
    "    go.Bar(x=worst_ACTp_2018[\"participation\"], y=worst_ACTp_2018[\"state\"], orientation='h', marker={'color': 'blue'}, legendgroup='group1',showlegend=False),\n",
    "    row=1, col=2\n",
    ")\n",
    "# add trace\n",
    "fig.add_trace(\n",
    "    go.Bar(x=worst_ACTp_2018[\"composite\"], y=worst_ACTp_2018[\"state\"], orientation='h', marker={'color': 'red'}, legendgroup='group2',showlegend=False),\n",
    "    row=1, col=2\n",
    ")\n",
    "\n",
    "# row 2 col 2\n",
    "# add trace\n",
    "fig.add_trace(\n",
    "    go.Bar(x=worst_ACTc_2018[\"participation\"], y=worst_ACTc_2018[\"state\"], orientation='h', marker={'color': 'blue'}, legendgroup='group1',showlegend=False),\n",
    "    row=2, col=2\n",
    ")\n",
    "# add trace\n",
    "fig.add_trace(\n",
    "    go.Bar(x=worst_ACTc_2018[\"composite\"], y=worst_ACTc_2018[\"state\"], orientation='h', marker={'color': 'red'}, legendgroup='group2',showlegend=False),\n",
    "    row=2, col=2\n",
    ")\n",
    "# label col\n",
    "fig.update_xaxes(title_text=\"2018\", row=2, col=2)\n",
    "\n",
    "# 2019 High Comp Score/ Participation top 5\n",
    "worst_ACTp_2019 = df_ACT_2019_cleaned.sort_values(by='participation').head(5)\n",
    "# 2019 Low Comp Score/ Participation top 5\n",
    "worst_ACTc_2019 = df_ACT_2019_cleaned.sort_values(by='composite').head(5)\n",
    "# row 1 col 3\n",
    "# add trace\n",
    "fig.add_trace(\n",
    "    go.Bar(x=worst_ACTp_2019[\"participation\"], y=worst_ACTp_2019[\"state\"], orientation='h', marker={'color': 'blue'}, legendgroup='group1',showlegend=False),\n",
    "    row=1, col=3\n",
    ")\n",
    "# add trace\n",
    "fig.add_trace(\n",
    "    go.Bar(x=worst_ACTp_2019[\"composite\"], y=worst_ACTp_2019[\"state\"], orientation='h', marker={'color': 'red'}, legendgroup='group2',showlegend=False),\n",
    "    row=1, col=3\n",
    ")\n",
    "\n",
    "# row 2 col 3\n",
    "# add trace\n",
    "fig.add_trace(\n",
    "    go.Bar(x=worst_ACTc_2019[\"participation\"], y=worst_ACTc_2019[\"state\"], orientation='h', marker={'color': 'blue'}, legendgroup='group1',showlegend=False),\n",
    "    row=2, col=3\n",
    ")\n",
    "fig.add_trace(\n",
    "    go.Bar(x=worst_ACTc_2019[\"composite\"], y=worst_ACTc_2019[\"state\"], orientation='h', marker={'color': 'red'}, legendgroup='group2',showlegend=False),\n",
    "    row=2, col=3\n",
    ")\n",
    "#label col\n",
    "fig.update_xaxes(title_text=\"2019\", row=2, col=3)\n",
    "\n",
    "# label y axis\n",
    "fig.update_yaxes(title_text=\"Low Score\", row=2, col=1)\n",
    "fig.update_yaxes(title_text=\"High Score\", row=1, col=1)\n",
    "\n",
    "# update layout\n",
    "fig.update_layout(\n",
    "    boxmode='group', \n",
    "    boxgap=0.8,\n",
    "    boxgroupgap=0.7,\n",
    "    paper_bgcolor='rgba(0,0,0,0)',\n",
    "    showlegend=True,\n",
    "    title_text=\"Top 5 ACT Low and High Composite Scores/Participation(%)\"\n",
    ")\n",
    "\n",
    "# fig.write_image(file='./img/low_high_5_ACT.png', format='png', width=1000)"
   ]
  },
  {
   "cell_type": "code",
   "execution_count": 31,
   "metadata": {
    "tags": []
   },
   "outputs": [
    {
     "name": "stdout",
     "output_type": "stream",
     "text": [
      "state\n",
      "Pennsylvania     2\n",
      "Delaware         3\n",
      "New Hampshire    3\n",
      "Rhode Island     3\n",
      "Maine            4\n",
      "Name: state, dtype: int64\n",
      "state\n",
      "Louisiana         1\n",
      "Oklahoma          1\n",
      "Hawaii            2\n",
      "North Carolina    2\n",
      "Mississippi       3\n",
      "Nevada            3\n",
      "South Carolina    3\n",
      "Name: state, dtype: int64\n"
     ]
    }
   ],
   "source": [
    "# find most common states in participation\n",
    "worst_partic = pd.concat([worst_ACTp_2017, worst_ACTp_2018, worst_ACTp_2019])\n",
    "ACT_worstp_state = worst_partic.groupby(['state'])['state'].count().sort_values(ascending=True)\n",
    "# find most common states in composite\n",
    "worst_composite = pd.concat([worst_ACTc_2017, worst_ACTc_2018, worst_ACTc_2019])\n",
    "ACT_worstc_state = worst_composite.groupby(['state'])['state'].count().sort_values(ascending=True)\n",
    "print(ACT_worstp_state)\n",
    "print(ACT_worstc_state)"
   ]
  },
  {
   "cell_type": "code",
   "execution_count": 32,
   "metadata": {
    "tags": []
   },
   "outputs": [
    {
     "name": "stdout",
     "output_type": "stream",
     "text": [
      "state\n",
      "Delaware         24.00\n",
      "Maine            24.15\n",
      "New Hampshire    25.20\n",
      "Pennsylvania     23.65\n",
      "Rhode Island     24.30\n",
      "Name: composite, dtype: float64\n",
      "state\n",
      "Delaware         16.0\n",
      "Maine             7.0\n",
      "New Hampshire    16.0\n",
      "Pennsylvania     20.0\n",
      "Rhode Island     16.0\n",
      "Name: participation, dtype: Float64\n"
     ]
    }
   ],
   "source": [
    "avg_composite_low_participation = pd.concat([worst_ACTp_2017, worst_ACTp_2018, worst_ACTp_2019])\n",
    "# get the values for the top 5 low rows graphed\n",
    "print(avg_composite_low_participation.groupby(['state'])['composite'].mean())\n",
    "print(avg_composite_low_participation.groupby(['state'])['participation'].mean())"
   ]
  },
  {
   "cell_type": "code",
   "execution_count": 33,
   "metadata": {
    "tags": []
   },
   "outputs": [
    {
     "name": "stdout",
     "output_type": "stream",
     "text": [
      "state\n",
      "Hawaii            18.950000\n",
      "Louisiana         18.800000\n",
      "Mississippi       18.533333\n",
      "Nevada            17.800000\n",
      "North Carolina    19.100000\n",
      "Oklahoma          18.900000\n",
      "South Carolina    18.600000\n",
      "Name: composite, dtype: float64\n",
      "state\n",
      "Hawaii                 89.5\n",
      "Louisiana             100.0\n",
      "Mississippi           100.0\n",
      "Nevada                100.0\n",
      "North Carolina        100.0\n",
      "Oklahoma              100.0\n",
      "South Carolina    92.666667\n",
      "Name: participation, dtype: Float64\n"
     ]
    }
   ],
   "source": [
    "avg_composite_high_participation = pd.concat([worst_ACTc_2017, worst_ACTc_2018, worst_ACTc_2019])\n",
    "# get the values for the top 5 high rows graphed\n",
    "print(avg_composite_high_participation.groupby(['state'])['composite'].mean())\n",
    "print(avg_composite_high_participation.groupby(['state'])['participation'].mean())"
   ]
  },
  {
   "cell_type": "markdown",
   "metadata": {},
   "source": [
    "In terms of sates being affected the most by the new format of the ACT.\n",
    "\n",
    "For States with high Composite Scores: \n",
    "- New Hampshire Score:25 and has partcipations:16%\n",
    "- Rhode Island Score:24 and has partcipations:16%\n",
    "- Maine Score:24 and has partcipations:7%\n",
    "\n",
    "For States with low Composite Score:\n",
    "- Mississippi Score:19 and has partcipations:100%\n",
    "- Nevada Score:18 and has partcipations:100%\n",
    "- South Carolina Score:19 and has partcipations:93%"
   ]
  },
  {
   "cell_type": "markdown",
   "metadata": {
    "tags": []
   },
   "source": [
    "## SAT Analysis"
   ]
  },
  {
   "cell_type": "markdown",
   "metadata": {
    "tags": []
   },
   "source": [
    "### See Missing Values"
   ]
  },
  {
   "cell_type": "code",
   "execution_count": 34,
   "metadata": {},
   "outputs": [
    {
     "data": {
      "text/plain": [
       "state                                 0\n",
       "participation                         0\n",
       "evidence-based reading and writing    0\n",
       "math                                  0\n",
       "total                                 0\n",
       "dtype: int64"
      ]
     },
     "execution_count": 34,
     "metadata": {},
     "output_type": "execute_result"
    }
   ],
   "source": [
    "df_SAT_2017.isna().sum()"
   ]
  },
  {
   "cell_type": "code",
   "execution_count": 35,
   "metadata": {},
   "outputs": [
    {
     "data": {
      "text/plain": [
       "state                                 0\n",
       "participation                         0\n",
       "evidence-based reading and writing    0\n",
       "math                                  0\n",
       "total                                 0\n",
       "dtype: int64"
      ]
     },
     "execution_count": 35,
     "metadata": {},
     "output_type": "execute_result"
    }
   ],
   "source": [
    "df_SAT_2018.isna().sum()"
   ]
  },
  {
   "cell_type": "code",
   "execution_count": 36,
   "metadata": {},
   "outputs": [
    {
     "data": {
      "text/plain": [
       "state                 0\n",
       "participation rate    0\n",
       "ebrw                  0\n",
       "math                  0\n",
       "total                 0\n",
       "dtype: int64"
      ]
     },
     "execution_count": 36,
     "metadata": {},
     "output_type": "execute_result"
    }
   ],
   "source": [
    "df_SAT_2019.isna().sum()"
   ]
  },
  {
   "cell_type": "markdown",
   "metadata": {
    "tags": []
   },
   "source": [
    "### Change/Drop Data"
   ]
  },
  {
   "cell_type": "markdown",
   "metadata": {
    "tags": []
   },
   "source": [
    "#### 2017"
   ]
  },
  {
   "cell_type": "code",
   "execution_count": 37,
   "metadata": {
    "tags": []
   },
   "outputs": [],
   "source": [
    "# drop unecessary col\n",
    "SAT_2017_cleaned = df_SAT_2017.drop(columns=['evidence-based reading and writing', 'math'])\n",
    "# change data types\n",
    "SAT_2017_cleaned['participation'] = SAT_2017_cleaned['participation'].apply(string_float)"
   ]
  },
  {
   "cell_type": "code",
   "execution_count": 38,
   "metadata": {
    "tags": []
   },
   "outputs": [
    {
     "name": "stdout",
     "output_type": "stream",
     "text": [
      "<class 'pandas.core.frame.DataFrame'>\n",
      "RangeIndex: 51 entries, 0 to 50\n",
      "Data columns (total 3 columns):\n",
      " #   Column         Non-Null Count  Dtype  \n",
      "---  ------         --------------  -----  \n",
      " 0   state          51 non-null     object \n",
      " 1   participation  51 non-null     float64\n",
      " 2   total          51 non-null     int64  \n",
      "dtypes: float64(1), int64(1), object(1)\n",
      "memory usage: 1.3+ KB\n"
     ]
    }
   ],
   "source": [
    "SAT_2017_cleaned.info()"
   ]
  },
  {
   "cell_type": "markdown",
   "metadata": {
    "tags": []
   },
   "source": [
    "#### 2018"
   ]
  },
  {
   "cell_type": "code",
   "execution_count": 39,
   "metadata": {
    "tags": []
   },
   "outputs": [],
   "source": [
    "# drop unecessary col\n",
    "SAT_2018_cleaned = df_SAT_2018.drop(columns=['evidence-based reading and writing', 'math'])\n",
    "# convert datatypes\n",
    "SAT_2018_cleaned['participation'] = SAT_2018_cleaned['participation'].apply(string_float)"
   ]
  },
  {
   "cell_type": "code",
   "execution_count": 40,
   "metadata": {
    "tags": []
   },
   "outputs": [
    {
     "name": "stdout",
     "output_type": "stream",
     "text": [
      "<class 'pandas.core.frame.DataFrame'>\n",
      "RangeIndex: 51 entries, 0 to 50\n",
      "Data columns (total 3 columns):\n",
      " #   Column         Non-Null Count  Dtype  \n",
      "---  ------         --------------  -----  \n",
      " 0   state          51 non-null     object \n",
      " 1   participation  51 non-null     float64\n",
      " 2   total          51 non-null     int64  \n",
      "dtypes: float64(1), int64(1), object(1)\n",
      "memory usage: 1.3+ KB\n"
     ]
    }
   ],
   "source": [
    "SAT_2018_cleaned.info()"
   ]
  },
  {
   "cell_type": "markdown",
   "metadata": {
    "tags": []
   },
   "source": [
    "#### 2019"
   ]
  },
  {
   "cell_type": "code",
   "execution_count": 41,
   "metadata": {
    "tags": []
   },
   "outputs": [],
   "source": [
    "# rename col names\n",
    "df_SAT_2019.rename(columns={'participation rate': 'participation'}, inplace=True)\n",
    "# mask 2019 SAT data\n",
    "df_SAT_2019 = df_SAT_2019[df_SAT_2019['participation'] != '—']\n",
    "# drop df col \n",
    "SAT_2019_cleaned = df_SAT_2019.drop(columns=['ebrw', 'math'])\n",
    "SAT_2019_cleaned['participation'] = SAT_2019_cleaned['participation'].apply(string_float)\n",
    "# SAT_2019_cleaned"
   ]
  },
  {
   "cell_type": "code",
   "execution_count": 42,
   "metadata": {},
   "outputs": [
    {
     "name": "stdout",
     "output_type": "stream",
     "text": [
      "<class 'pandas.core.frame.DataFrame'>\n",
      "Int64Index: 51 entries, 0 to 52\n",
      "Data columns (total 3 columns):\n",
      " #   Column         Non-Null Count  Dtype  \n",
      "---  ------         --------------  -----  \n",
      " 0   state          51 non-null     object \n",
      " 1   participation  51 non-null     float64\n",
      " 2   total          51 non-null     int64  \n",
      "dtypes: float64(1), int64(1), object(1)\n",
      "memory usage: 1.6+ KB\n"
     ]
    }
   ],
   "source": [
    "SAT_2019_cleaned.info()"
   ]
  },
  {
   "cell_type": "markdown",
   "metadata": {
    "tags": []
   },
   "source": [
    "### Make df's as csv's"
   ]
  },
  {
   "cell_type": "code",
   "execution_count": 43,
   "metadata": {
    "tags": []
   },
   "outputs": [],
   "source": [
    "SAT_2017_cleaned.to_csv('../new_data/SAT_2017_cleaned.csv', index=False)\n",
    "SAT_2018_cleaned.to_csv('../new_data/SAT_2018_cleaned.csv', index=False)\n",
    "SAT_2019_cleaned.to_csv('../new_data/SAT_2019_cleaned.csv', index=False)"
   ]
  },
  {
   "cell_type": "markdown",
   "metadata": {
    "tags": []
   },
   "source": [
    "\n",
    "#### SAT Data Dictionary:\n",
    "SAT_2017_clearned\n",
    "\n",
    "| Field Name         | Type                   | Description                       |\n",
    "| ------------------ | ---------------------------------------------------------- |\n",
    "| **State**          | string                 | States Name                       |                    \n",
    "| **Participation**  | float                  | Percent of Participation of SAT   |\n",
    "| **Total**          | float                  | Average Total Score of SAT        | \n",
    "\n",
    "\n",
    "SAT_2018_clearned\n",
    "\n",
    "| Field Name         | Type                   | Description                       |\n",
    "| ------------------ | ---------------------------------------------------------- |\n",
    "| **State**          | string                 | States Name                       |                    \n",
    "| **Participation**  | float                  | Percent of Participation of SAT   |\n",
    "| **Total**          | float                  | Average Total Score of SAT        | \n",
    "\n",
    "\n",
    "SAT_2019_clearned\n",
    "\n",
    "| Field Name         | Type                   | Description                       |\n",
    "| ------------------ | ---------------------------------------------------------- |\n",
    "| **State**          | string                 | States Name                       |                    \n",
    "| **Participation**  | float                  | Percent of Participation of SAT   |\n",
    "| **Total**          | float                  | Average Total Score of SAT        | "
   ]
  },
  {
   "cell_type": "markdown",
   "metadata": {
    "tags": []
   },
   "source": [
    "## SAT Findings/Visuals"
   ]
  },
  {
   "cell_type": "code",
   "execution_count": 44,
   "metadata": {},
   "outputs": [],
   "source": [
    "df_SAT_2017_cleaned = SAT_2017_cleaned.copy()\n",
    "df_SAT_2018_cleaned = SAT_2018_cleaned.copy()\n",
    "df_SAT_2019_cleaned = SAT_2019_cleaned.copy()\n",
    "# add year col\n",
    "df_SAT_2017_cleaned['year'] = 2017\n",
    "df_SAT_2018_cleaned['year'] = 2018\n",
    "df_SAT_2019_cleaned['year'] = 2019"
   ]
  },
  {
   "cell_type": "code",
   "execution_count": 45,
   "metadata": {
    "tags": []
   },
   "outputs": [
    {
     "data": {
      "image/png": "[encoded data removed]",
      "text/plain": [
       "<Figure size 1440x720 with 1 Axes>"
      ]
     },
     "metadata": {},
     "output_type": "display_data"
    }
   ],
   "source": [
    "# join df's\n",
    "df = pd.concat([df_SAT_2017_cleaned, df_SAT_2018_cleaned, df_SAT_2019_cleaned])\n",
    "# figure size\n",
    "sns.set(rc = {'figure.figsize':(20,10)})\n",
    "# boxplot\n",
    "sns.boxplot(x='year', y='participation', data=df, showmeans=True, \n",
    "                 meanprops={\"marker\":\"o\",\n",
    "                            \"markerfacecolor\":\"white\", \n",
    "                            \"markeredgecolor\":\"black\",\n",
    "                            \"markersize\":\"20\"})\n",
    "# scatter\n",
    "sns.swarmplot(x='year', y='participation', data=df, color=\"yellow\", size=7)\n",
    "# label\n",
    "plt.ylabel(\"Participation(%)\", size=15)\n",
    "plt.xlabel(\"Year\", size=15)\n",
    "plt.title(\"Participation(%) Descriptive Variables Over Time\", size=20)\n",
    "plt.savefig(\"./img/part_descrip_SAT.png\")"
   ]
  },
  {
   "cell_type": "code",
   "execution_count": 46,
   "metadata": {
    "tags": []
   },
   "outputs": [
    {
     "name": "stdout",
     "output_type": "stream",
     "text": [
      "42.01\n",
      "46.26\n",
      "47.79\n"
     ]
    }
   ],
   "source": [
    "print(round(df_SAT_2017_cleaned.describe().mean()['participation'], 2))\n",
    "print(round(df_SAT_2018_cleaned.describe().mean()['participation'], 2))\n",
    "print(round(df_SAT_2019_cleaned.describe().mean()['participation'], 2))"
   ]
  },
  {
   "cell_type": "markdown",
   "metadata": {},
   "source": [
    "Conversly as opposed to the ACT a higher Participation is is shown year by year.  It seems less people are taking the ACT and more Taking the SAT."
   ]
  },
  {
   "cell_type": "code",
   "execution_count": 47,
   "metadata": {
    "tags": []
   },
   "outputs": [
    {
     "data": {
      "image/png": "[encoded data removed]",
      "text/plain": [
       "<Figure size 1440x720 with 1 Axes>"
      ]
     },
     "metadata": {},
     "output_type": "display_data"
    }
   ],
   "source": [
    "# join df's\n",
    "df = pd.concat([df_SAT_2017_cleaned, df_SAT_2018_cleaned, df_SAT_2019_cleaned])\n",
    "# fig size\n",
    "sns.set(rc = {'figure.figsize':(20,10)})\n",
    "# boxplot\n",
    "sns.boxplot(x='year', y='total', data=df, showmeans=True, \n",
    "                 meanprops={\"marker\":\"o\",\n",
    "                            \"markerfacecolor\":\"white\", \n",
    "                            \"markeredgecolor\":\"black\",\n",
    "                            \"markersize\":\"20\"})\n",
    "# scatter\n",
    "sns.swarmplot(x='year', y='total', data=df, color=\"yellow\", size=7)\n",
    "# label\n",
    "plt.ylabel(\"SAT Score(400−1600)\", size=15)\n",
    "plt.xlabel(\"Year\", size=15)\n",
    "plt.title(\"SAT Score Descriptive Variables Over Time\", size=20)\n",
    "plt.savefig(\"./img/score_descrip_SAT.png\")"
   ]
  },
  {
   "cell_type": "code",
   "execution_count": 48,
   "metadata": {
    "tags": []
   },
   "outputs": [
    {
     "name": "stdout",
     "output_type": "stream",
     "text": [
      "861.14\n",
      "862.46\n",
      "854.16\n"
     ]
    }
   ],
   "source": [
    "# print mean variables\n",
    "print(round(df_SAT_2017_cleaned.describe().mean()['total'], 2))\n",
    "print(round(df_SAT_2018_cleaned.describe().mean()['total'], 2))\n",
    "print(round(df_SAT_2019_cleaned.describe().mean()['total'], 2))"
   ]
  },
  {
   "cell_type": "markdown",
   "metadata": {
    "tags": []
   },
   "source": [
    "Analysis: Average SAT score has a slight decline because all of the student leaving the ACT to Take the SAT are dropping the Average Score"
   ]
  },
  {
   "cell_type": "code",
   "execution_count": 49,
   "metadata": {
    "tags": []
   },
   "outputs": [],
   "source": [
    "# combine df's\n",
    "df_SAT = pd.concat([df_SAT_2017_cleaned, df_SAT_2018_cleaned, df_SAT_2019_cleaned])\n",
    "df_SAT = df.convert_dtypes()\n",
    "df_SAT.reset_index(inplace=True)"
   ]
  },
  {
   "cell_type": "code",
   "execution_count": 50,
   "metadata": {
    "tags": []
   },
   "outputs": [
    {
     "data": {
      "image/png": "[encoded data removed]",
      "text/plain": [
       "<Figure size 720x720 with 2 Axes>"
      ]
     },
     "metadata": {},
     "output_type": "display_data"
    }
   ],
   "source": [
    "# set figure size\n",
    "sns.set(rc = {'figure.figsize':(10,10)})\n",
    "# graph\n",
    "sns.kdeplot(x=df_SAT['participation'], y=df_SAT['total'], cmap=\"crest\", shade=True, bw_adjust=0.7, cbar=True)\n",
    "#label\n",
    "plt.ylabel(\"SAT Score(400−1600)\", size=15)\n",
    "plt.xlabel(\"Participation(%)\", size=15)\n",
    "plt.title(\"SAT Participation(%) vs SAT Score\", size=20)\n",
    "plt.savefig(\"./img/part_score_SAT.png\")"
   ]
  },
  {
   "cell_type": "markdown",
   "metadata": {},
   "source": [
    "Analysis: As participation Increases the score Decreases this is due to the fact that more student who arent prepared for the exams take the exams."
   ]
  },
  {
   "cell_type": "code",
   "execution_count": 51,
   "metadata": {
    "tags": []
   },
   "outputs": [
    {
     "data": {
      "application/vnd.plotly.v1+json": {
       "config": {
        "plotlyServerURL": "https://plot.ly"
       },
       "data": [
        {
         "legendgroup": "group1",
         "legendgrouptitle": {
          "text": "Participation"
         },
         "marker": {
          "color": "blue"
         },
         "name": "%",
         "orientation": "h",
         "type": "bar",
         "x": [
          2,
          2,
          2,
          3,
          3
         ],
         "xaxis": "x",
         "y": [
          "North Dakota",
          "Mississippi",
          "Iowa",
          "Missouri",
          "Utah"
         ],
         "yaxis": "y"
        },
        {
         "legendgroup": "group2",
         "legendgrouptitle": {
          "text": "Average Total Score"
         },
         "marker": {
          "color": "red"
         },
         "name": "SAT Score",
         "orientation": "h",
         "type": "bar",
         "x": [
          1256,
          1242,
          1275,
          1271,
          1238
         ],
         "xaxis": "x",
         "y": [
          "North Dakota",
          "Mississippi",
          "Iowa",
          "Missouri",
          "Utah"
         ],
         "yaxis": "y"
        },
        {
         "legendgroup": "group1",
         "marker": {
          "color": "blue"
         },
         "orientation": "h",
         "showlegend": false,
         "type": "bar",
         "x": [
          100,
          100,
          93,
          100,
          95
         ],
         "xaxis": "x4",
         "y": [
          "District of Columbia",
          "Delaware",
          "Idaho",
          "Michigan",
          "Maine"
         ],
         "yaxis": "y4"
        },
        {
         "legendgroup": "group2",
         "marker": {
          "color": "red"
         },
         "orientation": "h",
         "showlegend": false,
         "type": "bar",
         "x": [
          950,
          996,
          1005,
          1005,
          1012
         ],
         "xaxis": "x4",
         "y": [
          "District of Columbia",
          "Delaware",
          "Idaho",
          "Michigan",
          "Maine"
         ],
         "yaxis": "y4"
        },
        {
         "legendgroup": "group1",
         "marker": {
          "color": "blue"
         },
         "orientation": "h",
         "showlegend": false,
         "type": "bar",
         "x": [
          2,
          3,
          3,
          3,
          3
         ],
         "xaxis": "x2",
         "y": [
          "North Dakota",
          "Wyoming",
          "South Dakota",
          "Nebraska",
          "Wisconsin"
         ],
         "yaxis": "y2"
        },
        {
         "legendgroup": "group2",
         "marker": {
          "color": "red"
         },
         "orientation": "h",
         "showlegend": false,
         "type": "bar",
         "x": [
          1283,
          1257,
          1240,
          1252,
          1294
         ],
         "xaxis": "x2",
         "y": [
          "North Dakota",
          "Wyoming",
          "South Dakota",
          "Nebraska",
          "Wisconsin"
         ],
         "yaxis": "y2"
        },
        {
         "legendgroup": "group1",
         "marker": {
          "color": "blue"
         },
         "orientation": "h",
         "showlegend": false,
         "type": "bar",
         "x": [
          92,
          100,
          28,
          100,
          4
         ],
         "xaxis": "x5",
         "y": [
          "District of Columbia",
          "Delaware",
          "West Virginia",
          "Idaho",
          "Utah"
         ],
         "yaxis": "y5"
        },
        {
         "legendgroup": "group2",
         "marker": {
          "color": "red"
         },
         "orientation": "h",
         "showlegend": false,
         "type": "bar",
         "x": [
          977,
          998,
          999,
          1001,
          1010
         ],
         "xaxis": "x5",
         "y": [
          "District of Columbia",
          "Delaware",
          "West Virginia",
          "Idaho",
          "Utah"
         ],
         "yaxis": "y5"
        },
        {
         "legendgroup": "group1",
         "marker": {
          "color": "blue"
         },
         "orientation": "h",
         "showlegend": false,
         "type": "bar",
         "x": [
          2,
          3,
          3,
          3,
          3
         ],
         "xaxis": "x3",
         "y": [
          "North Dakota",
          "Wyoming",
          "South Dakota",
          "Nebraska",
          "Wisconsin"
         ],
         "yaxis": "y3"
        },
        {
         "legendgroup": "group2",
         "marker": {
          "color": "red"
         },
         "orientation": "h",
         "showlegend": false,
         "type": "bar",
         "x": [
          1263,
          1238,
          1268,
          1260,
          1283
         ],
         "xaxis": "x3",
         "y": [
          "North Dakota",
          "Wyoming",
          "South Dakota",
          "Nebraska",
          "Wisconsin"
         ],
         "yaxis": "y3"
        },
        {
         "legendgroup": "group1",
         "marker": {
          "color": "blue"
         },
         "orientation": "h",
         "showlegend": false,
         "type": "bar",
         "x": [
          99,
          22,
          94,
          100,
          100
         ],
         "xaxis": "x6",
         "y": [
          "West Virginia",
          "Oklahoma",
          "District of Columbia",
          "Delaware",
          "Idaho"
         ],
         "yaxis": "y6"
        },
        {
         "legendgroup": "group2",
         "marker": {
          "color": "red"
         },
         "orientation": "h",
         "showlegend": false,
         "type": "bar",
         "x": [
          943,
          963,
          975,
          985,
          993
         ],
         "xaxis": "x6",
         "y": [
          "West Virginia",
          "Oklahoma",
          "District of Columbia",
          "Delaware",
          "Idaho"
         ],
         "yaxis": "y6"
        }
       ],
       "layout": {
        "boxgap": 0.8,
        "boxgroupgap": 0.7,
        "boxmode": "group",
        "paper_bgcolor": "rgba(0,0,0,0)",
        "showlegend": true,
        "template": {
         "data": {
          "bar": [
           {
            "error_x": {
             "color": "#2a3f5f"
            },
            "error_y": {
             "color": "#2a3f5f"
            },
            "marker": {
             "line": {
              "color": "#E5ECF6",
              "width": 0.5
             },
             "pattern": {
              "fillmode": "overlay",
              "size": 10,
              "solidity": 0.2
             }
            },
            "type": "bar"
           }
          ],
          "barpolar": [
           {
            "marker": {
             "line": {
              "color": "#E5ECF6",
              "width": 0.5
             },
             "pattern": {
              "fillmode": "overlay",
              "size": 10,
              "solidity": 0.2
             }
            },
            "type": "barpolar"
           }
          ],
          "carpet": [
           {
            "aaxis": {
             "endlinecolor": "#2a3f5f",
             "gridcolor": "white",
             "linecolor": "white",
             "minorgridcolor": "white",
             "startlinecolor": "#2a3f5f"
            },
            "baxis": {
             "endlinecolor": "#2a3f5f",
             "gridcolor": "white",
             "linecolor": "white",
             "minorgridcolor": "white",
             "startlinecolor": "#2a3f5f"
            },
            "type": "carpet"
           }
          ],
          "choropleth": [
           {
            "colorbar": {
             "outlinewidth": 0,
             "ticks": ""
            },
            "type": "choropleth"
           }
          ],
          "contour": [
           {
            "colorbar": {
             "outlinewidth": 0,
             "ticks": ""
            },
            "colorscale": [
             [
              0,
              "#0d0887"
             ],
             [
              0.1111111111111111,
              "#46039f"
             ],
             [
              0.2222222222222222,
              "#7201a8"
             ],
             [
              0.3333333333333333,
              "#9c179e"
             ],
             [
              0.4444444444444444,
              "#bd3786"
             ],
             [
              0.5555555555555556,
              "#d8576b"
             ],
             [
              0.6666666666666666,
              "#ed7953"
             ],
             [
              0.7777777777777778,
              "#fb9f3a"
             ],
             [
              0.8888888888888888,
              "#fdca26"
             ],
             [
              1,
              "#f0f921"
             ]
            ],
            "type": "contour"
           }
          ],
          "contourcarpet": [
           {
            "colorbar": {
             "outlinewidth": 0,
             "ticks": ""
            },
            "type": "contourcarpet"
           }
          ],
          "heatmap": [
           {
            "colorbar": {
             "outlinewidth": 0,
             "ticks": ""
            },
            "colorscale": [
             [
              0,
              "#0d0887"
             ],
             [
              0.1111111111111111,
              "#46039f"
             ],
             [
              0.2222222222222222,
              "#7201a8"
             ],
             [
              0.3333333333333333,
              "#9c179e"
             ],
             [
              0.4444444444444444,
              "#bd3786"
             ],
             [
              0.5555555555555556,
              "#d8576b"
             ],
             [
              0.6666666666666666,
              "#ed7953"
             ],
             [
              0.7777777777777778,
              "#fb9f3a"
             ],
             [
              0.8888888888888888,
              "#fdca26"
             ],
             [
              1,
              "#f0f921"
             ]
            ],
            "type": "heatmap"
           }
          ],
          "heatmapgl": [
           {
            "colorbar": {
             "outlinewidth": 0,
             "ticks": ""
            },
            "colorscale": [
             [
              0,
              "#0d0887"
             ],
             [
              0.1111111111111111,
              "#46039f"
             ],
             [
              0.2222222222222222,
              "#7201a8"
             ],
             [
              0.3333333333333333,
              "#9c179e"
             ],
             [
              0.4444444444444444,
              "#bd3786"
             ],
             [
              0.5555555555555556,
              "#d8576b"
             ],
             [
              0.6666666666666666,
              "#ed7953"
             ],
             [
              0.7777777777777778,
              "#fb9f3a"
             ],
             [
              0.8888888888888888,
              "#fdca26"
             ],
             [
              1,
              "#f0f921"
             ]
            ],
            "type": "heatmapgl"
           }
          ],
          "histogram": [
           {
            "marker": {
             "pattern": {
              "fillmode": "overlay",
              "size": 10,
              "solidity": 0.2
             }
            },
            "type": "histogram"
           }
          ],
          "histogram2d": [
           {
            "colorbar": {
             "outlinewidth": 0,
             "ticks": ""
            },
            "colorscale": [
             [
              0,
              "#0d0887"
             ],
             [
              0.1111111111111111,
              "#46039f"
             ],
             [
              0.2222222222222222,
              "#7201a8"
             ],
             [
              0.3333333333333333,
              "#9c179e"
             ],
             [
              0.4444444444444444,
              "#bd3786"
             ],
             [
              0.5555555555555556,
              "#d8576b"
             ],
             [
              0.6666666666666666,
              "#ed7953"
             ],
             [
              0.7777777777777778,
              "#fb9f3a"
             ],
             [
              0.8888888888888888,
              "#fdca26"
             ],
             [
              1,
              "#f0f921"
             ]
            ],
            "type": "histogram2d"
           }
          ],
          "histogram2dcontour": [
           {
            "colorbar": {
             "outlinewidth": 0,
             "ticks": ""
            },
            "colorscale": [
             [
              0,
              "#0d0887"
             ],
             [
              0.1111111111111111,
              "#46039f"
             ],
             [
              0.2222222222222222,
              "#7201a8"
             ],
             [
              0.3333333333333333,
              "#9c179e"
             ],
             [
              0.4444444444444444,
              "#bd3786"
             ],
             [
              0.5555555555555556,
              "#d8576b"
             ],
             [
              0.6666666666666666,
              "#ed7953"
             ],
             [
              0.7777777777777778,
              "#fb9f3a"
             ],
             [
              0.8888888888888888,
              "#fdca26"
             ],
             [
              1,
              "#f0f921"
             ]
            ],
            "type": "histogram2dcontour"
           }
          ],
          "mesh3d": [
           {
            "colorbar": {
             "outlinewidth": 0,
             "ticks": ""
            },
            "type": "mesh3d"
           }
          ],
          "parcoords": [
           {
            "line": {
             "colorbar": {
              "outlinewidth": 0,
              "ticks": ""
             }
            },
            "type": "parcoords"
           }
          ],
          "pie": [
           {
            "automargin": true,
            "type": "pie"
           }
          ],
          "scatter": [
           {
            "fillpattern": {
             "fillmode": "overlay",
             "size": 10,
             "solidity": 0.2
            },
            "type": "scatter"
           }
          ],
          "scatter3d": [
           {
            "line": {
             "colorbar": {
              "outlinewidth": 0,
              "ticks": ""
             }
            },
            "marker": {
             "colorbar": {
              "outlinewidth": 0,
              "ticks": ""
             }
            },
            "type": "scatter3d"
           }
          ],
          "scattercarpet": [
           {
            "marker": {
             "colorbar": {
              "outlinewidth": 0,
              "ticks": ""
             }
            },
            "type": "scattercarpet"
           }
          ],
          "scattergeo": [
           {
            "marker": {
             "colorbar": {
              "outlinewidth": 0,
              "ticks": ""
             }
            },
            "type": "scattergeo"
           }
          ],
          "scattergl": [
           {
            "marker": {
             "colorbar": {
              "outlinewidth": 0,
              "ticks": ""
             }
            },
            "type": "scattergl"
           }
          ],
          "scattermapbox": [
           {
            "marker": {
             "colorbar": {
              "outlinewidth": 0,
              "ticks": ""
             }
            },
            "type": "scattermapbox"
           }
          ],
          "scatterpolar": [
           {
            "marker": {
             "colorbar": {
              "outlinewidth": 0,
              "ticks": ""
             }
            },
            "type": "scatterpolar"
           }
          ],
          "scatterpolargl": [
           {
            "marker": {
             "colorbar": {
              "outlinewidth": 0,
              "ticks": ""
             }
            },
            "type": "scatterpolargl"
           }
          ],
          "scatterternary": [
           {
            "marker": {
             "colorbar": {
              "outlinewidth": 0,
              "ticks": ""
             }
            },
            "type": "scatterternary"
           }
          ],
          "surface": [
           {
            "colorbar": {
             "outlinewidth": 0,
             "ticks": ""
            },
            "colorscale": [
             [
              0,
              "#0d0887"
             ],
             [
              0.1111111111111111,
              "#46039f"
             ],
             [
              0.2222222222222222,
              "#7201a8"
             ],
             [
              0.3333333333333333,
              "#9c179e"
             ],
             [
              0.4444444444444444,
              "#bd3786"
             ],
             [
              0.5555555555555556,
              "#d8576b"
             ],
             [
              0.6666666666666666,
              "#ed7953"
             ],
             [
              0.7777777777777778,
              "#fb9f3a"
             ],
             [
              0.8888888888888888,
              "#fdca26"
             ],
             [
              1,
              "#f0f921"
             ]
            ],
            "type": "surface"
           }
          ],
          "table": [
           {
            "cells": {
             "fill": {
              "color": "#EBF0F8"
             },
             "line": {
              "color": "white"
             }
            },
            "header": {
             "fill": {
              "color": "#C8D4E3"
             },
             "line": {
              "color": "white"
             }
            },
            "type": "table"
           }
          ]
         },
         "layout": {
          "annotationdefaults": {
           "arrowcolor": "#2a3f5f",
           "arrowhead": 0,
           "arrowwidth": 1
          },
          "autotypenumbers": "strict",
          "coloraxis": {
           "colorbar": {
            "outlinewidth": 0,
            "ticks": ""
           }
          },
          "colorscale": {
           "diverging": [
            [
             0,
             "#8e0152"
            ],
            [
             0.1,
             "#c51b7d"
            ],
            [
             0.2,
             "#de77ae"
            ],
            [
             0.3,
             "#f1b6da"
            ],
            [
             0.4,
             "#fde0ef"
            ],
            [
             0.5,
             "#f7f7f7"
            ],
            [
             0.6,
             "#e6f5d0"
            ],
            [
             0.7,
             "#b8e186"
            ],
            [
             0.8,
             "#7fbc41"
            ],
            [
             0.9,
             "#4d9221"
            ],
            [
             1,
             "#276419"
            ]
           ],
           "sequential": [
            [
             0,
             "#0d0887"
            ],
            [
             0.1111111111111111,
             "#46039f"
            ],
            [
             0.2222222222222222,
             "#7201a8"
            ],
            [
             0.3333333333333333,
             "#9c179e"
            ],
            [
             0.4444444444444444,
             "#bd3786"
            ],
            [
             0.5555555555555556,
             "#d8576b"
            ],
            [
             0.6666666666666666,
             "#ed7953"
            ],
            [
             0.7777777777777778,
             "#fb9f3a"
            ],
            [
             0.8888888888888888,
             "#fdca26"
            ],
            [
             1,
             "#f0f921"
            ]
           ],
           "sequentialminus": [
            [
             0,
             "#0d0887"
            ],
            [
             0.1111111111111111,
             "#46039f"
            ],
            [
             0.2222222222222222,
             "#7201a8"
            ],
            [
             0.3333333333333333,
             "#9c179e"
            ],
            [
             0.4444444444444444,
             "#bd3786"
            ],
            [
             0.5555555555555556,
             "#d8576b"
            ],
            [
             0.6666666666666666,
             "#ed7953"
            ],
            [
             0.7777777777777778,
             "#fb9f3a"
            ],
            [
             0.8888888888888888,
             "#fdca26"
            ],
            [
             1,
             "#f0f921"
            ]
           ]
          },
          "colorway": [
           "#636efa",
           "#EF553B",
           "#00cc96",
           "#ab63fa",
           "#FFA15A",
           "#19d3f3",
           "#FF6692",
           "#B6E880",
           "#FF97FF",
           "#FECB52"
          ],
          "font": {
           "color": "#2a3f5f"
          },
          "geo": {
           "bgcolor": "white",
           "lakecolor": "white",
           "landcolor": "#E5ECF6",
           "showlakes": true,
           "showland": true,
           "subunitcolor": "white"
          },
          "hoverlabel": {
           "align": "left"
          },
          "hovermode": "closest",
          "mapbox": {
           "style": "light"
          },
          "paper_bgcolor": "white",
          "plot_bgcolor": "#E5ECF6",
          "polar": {
           "angularaxis": {
            "gridcolor": "white",
            "linecolor": "white",
            "ticks": ""
           },
           "bgcolor": "#E5ECF6",
           "radialaxis": {
            "gridcolor": "white",
            "linecolor": "white",
            "ticks": ""
           }
          },
          "scene": {
           "xaxis": {
            "backgroundcolor": "#E5ECF6",
            "gridcolor": "white",
            "gridwidth": 2,
            "linecolor": "white",
            "showbackground": true,
            "ticks": "",
            "zerolinecolor": "white"
           },
           "yaxis": {
            "backgroundcolor": "#E5ECF6",
            "gridcolor": "white",
            "gridwidth": 2,
            "linecolor": "white",
            "showbackground": true,
            "ticks": "",
            "zerolinecolor": "white"
           },
           "zaxis": {
            "backgroundcolor": "#E5ECF6",
            "gridcolor": "white",
            "gridwidth": 2,
            "linecolor": "white",
            "showbackground": true,
            "ticks": "",
            "zerolinecolor": "white"
           }
          },
          "shapedefaults": {
           "line": {
            "color": "#2a3f5f"
           }
          },
          "ternary": {
           "aaxis": {
            "gridcolor": "white",
            "linecolor": "white",
            "ticks": ""
           },
           "baxis": {
            "gridcolor": "white",
            "linecolor": "white",
            "ticks": ""
           },
           "bgcolor": "#E5ECF6",
           "caxis": {
            "gridcolor": "white",
            "linecolor": "white",
            "ticks": ""
           }
          },
          "title": {
           "x": 0.05
          },
          "xaxis": {
           "automargin": true,
           "gridcolor": "white",
           "linecolor": "white",
           "ticks": "",
           "title": {
            "standoff": 15
           },
           "zerolinecolor": "white",
           "zerolinewidth": 2
          },
          "yaxis": {
           "automargin": true,
           "gridcolor": "white",
           "linecolor": "white",
           "ticks": "",
           "title": {
            "standoff": 15
           },
           "zerolinecolor": "white",
           "zerolinewidth": 2
          }
         }
        },
        "title": {
         "text": "Top 5 SAT Low and High Composite Scores/Participation(%)"
        },
        "xaxis": {
         "anchor": "y",
         "domain": [
          0,
          0.25333333333333335
         ]
        },
        "xaxis2": {
         "anchor": "y2",
         "domain": [
          0.37333333333333335,
          0.6266666666666667
         ]
        },
        "xaxis3": {
         "anchor": "y3",
         "domain": [
          0.7466666666666667,
          1
         ]
        },
        "xaxis4": {
         "anchor": "y4",
         "domain": [
          0,
          0.25333333333333335
         ],
         "title": {
          "text": "2017"
         }
        },
        "xaxis5": {
         "anchor": "y5",
         "domain": [
          0.37333333333333335,
          0.6266666666666667
         ],
         "title": {
          "text": "2018"
         }
        },
        "xaxis6": {
         "anchor": "y6",
         "domain": [
          0.7466666666666667,
          1
         ],
         "title": {
          "text": "2019"
         }
        },
        "yaxis": {
         "anchor": "x",
         "domain": [
          0.575,
          1
         ],
         "title": {
          "text": "High Score"
         }
        },
        "yaxis2": {
         "anchor": "x2",
         "domain": [
          0.575,
          1
         ]
        },
        "yaxis3": {
         "anchor": "x3",
         "domain": [
          0.575,
          1
         ]
        },
        "yaxis4": {
         "anchor": "x4",
         "domain": [
          0,
          0.425
         ],
         "title": {
          "text": "Low Score"
         }
        },
        "yaxis5": {
         "anchor": "x5",
         "domain": [
          0,
          0.425
         ]
        },
        "yaxis6": {
         "anchor": "x6",
         "domain": [
          0,
          0.425
         ]
        }
       }
      }
     },
     "metadata": {},
     "output_type": "display_data"
    }
   ],
   "source": [
    "# import libraies\n",
    "from plotly.subplots import make_subplots\n",
    "import plotly.graph_objects as go\n",
    "\n",
    "# extract 5 worst participation, composite\n",
    "worst_SATp_2017 = SAT_2017_cleaned.sort_values(by='participation').head(5)\n",
    "worst_SATt_2017 = SAT_2017_cleaned.sort_values(by='total').head(5)\n",
    "\n",
    "# make subplot\n",
    "fig = make_subplots(rows=2, cols=3, specs = [[{}, {}, {}],[{}, {}, {}]], horizontal_spacing = 0.12, vertical_spacing=0.15)\n",
    "# add participation trace\n",
    "fig.add_trace(\n",
    "    go.Bar(x=worst_SATp_2017[\"participation\"], y=worst_SATp_2017[\"state\"], orientation='h', marker={'color': 'blue'}, legendgroup='group1', legendgrouptitle_text=\"Participation\", name=\"%\"),\n",
    "    row=1, col=1\n",
    ")\n",
    "fig.add_trace(\n",
    "    go.Bar(x=worst_SATp_2017[\"total\"], y=worst_SATp_2017[\"state\"], orientation='h', marker={'color': 'red'}, legendgroup='group2', legendgrouptitle_text='Average Total Score', name=\"SAT Score\"),\n",
    "    row=1, col=1\n",
    ")\n",
    "\n",
    "# add composite trace\n",
    "fig.add_trace(\n",
    "    go.Bar(x=worst_SATt_2017[\"participation\"], y=worst_SATt_2017[\"state\"], orientation='h', marker={'color': 'blue'}, legendgroup='group1',showlegend=False),\n",
    "    row=2, col=1\n",
    ")\n",
    "fig.add_trace(\n",
    "    go.Bar(x=worst_SATt_2017[\"total\"], y=worst_SATt_2017[\"state\"], orientation='h', marker={'color': 'red'}, legendgroup='group2',showlegend=False),\n",
    "    row=2, col=1\n",
    ")\n",
    "fig.update_xaxes(title_text=\"2017\", row=2, col=1)\n",
    "\n",
    "# # extract 5 worst participation, composite\n",
    "worst_SATp_2018 = SAT_2018_cleaned.sort_values(by='participation').head(5)\n",
    "worst_SATt_2018 = SAT_2018_cleaned.sort_values(by='total').head(5) \n",
    "\n",
    "# add participation trace\n",
    "fig.add_trace(\n",
    "    go.Bar(x=worst_SATp_2018[\"participation\"], y=worst_SATp_2018[\"state\"], orientation='h', marker={'color': 'blue'}, legendgroup='group1',showlegend=False),\n",
    "    row=1, col=2\n",
    ")\n",
    "fig.add_trace(\n",
    "    go.Bar(x=worst_SATp_2018[\"total\"], y=worst_SATp_2018[\"state\"], orientation='h', marker={'color': 'red'}, legendgroup='group2',showlegend=False),\n",
    "    row=1, col=2\n",
    ")\n",
    "\n",
    "# add composite trace\n",
    "fig.add_trace(\n",
    "    go.Bar(x=worst_SATt_2018[\"participation\"], y=worst_SATt_2018[\"state\"], orientation='h', marker={'color': 'blue'}, legendgroup='group1',showlegend=False),\n",
    "    row=2, col=2\n",
    ")\n",
    "fig.add_trace(\n",
    "    go.Bar(x=worst_SATt_2018[\"total\"], y=worst_SATt_2018[\"state\"], orientation='h', marker={'color': 'red'}, legendgroup='group2',showlegend=False),\n",
    "    row=2, col=2\n",
    ")\n",
    "fig.update_xaxes(title_text=\"2018\", row=2, col=2)\n",
    "\n",
    "\n",
    "\n",
    "# # extract 5 worst participation, composite\n",
    "worst_SATp_2019 = SAT_2019_cleaned.sort_values(by='participation').head(5)\n",
    "worst_SATt_2019 = SAT_2019_cleaned.sort_values(by='total').head(5)\n",
    "\n",
    "fig.add_trace(\n",
    "    go.Bar(x=worst_SATp_2019[\"participation\"], y=worst_SATp_2019[\"state\"], orientation='h', marker={'color': 'blue'}, legendgroup='group1',showlegend=False),\n",
    "    row=1, col=3\n",
    ")\n",
    "fig.add_trace(\n",
    "    go.Bar(x=worst_SATp_2019[\"total\"], y=worst_SATp_2019[\"state\"], orientation='h', marker={'color': 'red'}, legendgroup='group2',showlegend=False),\n",
    "    row=1, col=3\n",
    ")\n",
    "# add composite trace\n",
    "fig.add_trace(\n",
    "    go.Bar(x=worst_SATt_2019[\"participation\"], y=worst_SATt_2019[\"state\"], orientation='h', marker={'color': 'blue'}, legendgroup='group1',showlegend=False),\n",
    "    row=2, col=3\n",
    ")\n",
    "fig.add_trace(\n",
    "    go.Bar(x=worst_SATt_2019[\"total\"], y=worst_SATt_2019[\"state\"], orientation='h', marker={'color': 'red'}, legendgroup='group2',showlegend=False),\n",
    "    row=2, col=3\n",
    ")\n",
    "fig.update_xaxes(title_text=\"2019\", row=2, col=3)\n",
    "\n",
    "fig.update_yaxes(title_text=\"Low Score\", row=2, col=1)\n",
    "fig.update_yaxes(title_text=\"High Score\", row=1, col=1)\n",
    "\n",
    "\n",
    "fig.update_layout(\n",
    "    boxmode='group', \n",
    "    boxgap=0.8,\n",
    "    boxgroupgap=0.7,\n",
    "    paper_bgcolor='rgba(0,0,0,0)',\n",
    "    showlegend=True,\n",
    "    title_text=\"Top 5 SAT Low and High Composite Scores/Participation(%)\"\n",
    ")\n",
    "\n",
    "\n",
    "# fig.write_image(file='./img/low_high_5_SAT.png', format='png', width=1000)"
   ]
  },
  {
   "cell_type": "code",
   "execution_count": 52,
   "metadata": {
    "tags": []
   },
   "outputs": [
    {
     "name": "stdout",
     "output_type": "stream",
     "text": [
      "state\n",
      "Iowa            1\n",
      "Mississippi     1\n",
      "Missouri        1\n",
      "Utah            1\n",
      "Nebraska        2\n",
      "South Dakota    2\n",
      "Wisconsin       2\n",
      "Wyoming         2\n",
      "North Dakota    3\n",
      "Name: state, dtype: int64\n",
      "state\n",
      "Maine                   1\n",
      "Michigan                1\n",
      "Oklahoma                1\n",
      "Utah                    1\n",
      "West Virginia           2\n",
      "Delaware                3\n",
      "District of Columbia    3\n",
      "Idaho                   3\n",
      "Name: state, dtype: int64\n"
     ]
    }
   ],
   "source": [
    "# find most common states in participation\n",
    "worst_partic = pd.concat([worst_SATp_2019, worst_SATp_2018, worst_SATp_2017])\n",
    "SAT_worstp_state = worst_partic.groupby(['state'])['state'].count().sort_values(ascending=True)\n",
    "# find most common states in composite\n",
    "worst_score = pd.concat([worst_SATt_2019, worst_SATt_2018, worst_SATt_2017])\n",
    "SAT_worsts_state = worst_score.groupby(['state'])['state'].count().sort_values(ascending=True)\n",
    "print(SAT_worstp_state)\n",
    "print(SAT_worsts_state)"
   ]
  },
  {
   "cell_type": "code",
   "execution_count": 53,
   "metadata": {},
   "outputs": [
    {
     "name": "stdout",
     "output_type": "stream",
     "text": [
      "state\n",
      "Iowa            1275.000000\n",
      "Mississippi     1242.000000\n",
      "Missouri        1271.000000\n",
      "Nebraska        1256.000000\n",
      "North Dakota    1267.333333\n",
      "South Dakota    1254.000000\n",
      "Utah            1238.000000\n",
      "Wisconsin       1288.500000\n",
      "Wyoming         1247.500000\n",
      "Name: total, dtype: float64\n",
      "state\n",
      "Iowa            2.0\n",
      "Mississippi     2.0\n",
      "Missouri        3.0\n",
      "Nebraska        3.0\n",
      "North Dakota    2.0\n",
      "South Dakota    3.0\n",
      "Utah            3.0\n",
      "Wisconsin       3.0\n",
      "Wyoming         3.0\n",
      "Name: participation, dtype: float64\n"
     ]
    }
   ],
   "source": [
    "avg_total_low_participation = pd.concat([worst_SATp_2019, worst_SATp_2018, worst_SATp_2017])\n",
    "# get the values for the top 5 low rows graphed\n",
    "print(avg_total_low_participation.groupby(['state'])['total'].mean())\n",
    "print(avg_total_low_participation.groupby(['state'])['participation'].mean())"
   ]
  },
  {
   "cell_type": "code",
   "execution_count": 117,
   "metadata": {},
   "outputs": [
    {
     "name": "stdout",
     "output_type": "stream",
     "text": [
      "state\n",
      "Delaware                 993.000000\n",
      "District of Columbia     967.333333\n",
      "Idaho                    999.666667\n",
      "Maine                   1012.000000\n",
      "Michigan                1005.000000\n",
      "Oklahoma                 963.000000\n",
      "Utah                    1010.000000\n",
      "West Virginia            971.000000\n",
      "Name: total, dtype: float64\n",
      "state\n",
      "Delaware                100.000000\n",
      "District of Columbia     95.333333\n",
      "Idaho                    97.666667\n",
      "Maine                    95.000000\n",
      "Michigan                100.000000\n",
      "Oklahoma                 22.000000\n",
      "Utah                      4.000000\n",
      "West Virginia            63.500000\n",
      "Name: participation, dtype: float64\n"
     ]
    }
   ],
   "source": [
    "avg_total_high_participation = pd.concat([worst_SATt_2019, worst_SATt_2018, worst_SATt_2017])\n",
    "# get the values for the top 5 high rows graphed\n",
    "print(avg_total_high_participation.groupby(['state'])['total'].mean())\n",
    "print(avg_total_high_participation.groupby(['state'])['participation'].mean())"
   ]
  },
  {
   "cell_type": "markdown",
   "metadata": {},
   "source": [
    "In terms of sates being affected the most by the new format of the SAT."
   ]
  },
  {
   "cell_type": "markdown",
   "metadata": {},
   "source": [
    "## Conclusions and Recommendations"
   ]
  },
  {
   "cell_type": "markdown",
   "metadata": {},
   "source": [
    "  College Board Should put more focus on locations such as Mississippi, Nevada, and South Carolina for ACT Prep Coursework due to there high particiaption percentage but low testing scores. While for the SAT College Board needs to put more focus on locations such as Delaware, District of Columbia, Idaho due to there low participation and lower composite score. In ters of the SAT new format preformace I believe it is bad.  Although, the SAT had recently been changed it seems less and less people are taking the SAT year by year.  This might be related to the stigma of the difficulty of the SAT.  If this stigma doesnt change and participation doesnt increase in another 3 years I believe another reformat of the SAT should be considered."
   ]
  }
 ],
 "metadata": {
  "anaconda-cloud": {},
  "interpreter": {
   "hash": "763c58dc754126fdcc508b9f4a084ccf790ec0f71a7031f5e40ea62c092b888e"
  },
  "kernelspec": {
   "display_name": "Python 3.9.12 ('SL_env')",
   "language": "python",
   "name": "python3"
  },
  "language_info": {
   "codemirror_mode": {
    "name": "ipython",
    "version": 3
   },
   "file_extension": ".py",
   "mimetype": "text/x-python",
   "name": "python",
   "nbconvert_exporter": "python",
   "pygments_lexer": "ipython3",
   "version": "3.9.12"
  }
 },
 "nbformat": 4,
 "nbformat_minor": 4
}
